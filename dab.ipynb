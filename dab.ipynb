{
 "cells": [
  {
   "cell_type": "code",
   "execution_count": 1588,
   "metadata": {},
   "outputs": [],
   "source": [
    "import pandas as pd\n",
    "import matplotlib.pyplot as plt\n",
    "import seaborn as sns\n",
    "from sklearn.model_selection import train_test_split\n",
    "import numpy as np\n",
    "from sklearn.tree import DecisionTreeRegressor\n",
    "from sklearn.ensemble import RandomForestRegressor\n",
    "from sklearn.model_selection import GridSearchCV\n",
    "from sklearn.preprocessing import LabelEncoder\n",
    "import datetime \n",
    "from sklearn.metrics import mean_absolute_error\n",
    "from sklearn.metrics import r2_score"
   ]
  },
  {
   "cell_type": "markdown",
   "metadata": {},
   "source": [
    "Считываем страницу student_1"
   ]
  },
  {
   "cell_type": "code",
   "execution_count": 786,
   "metadata": {},
   "outputs": [
    {
     "data": {
      "text/html": [
       "<div>\n",
       "<style scoped>\n",
       "    .dataframe tbody tr th:only-of-type {\n",
       "        vertical-align: middle;\n",
       "    }\n",
       "\n",
       "    .dataframe tbody tr th {\n",
       "        vertical-align: top;\n",
       "    }\n",
       "\n",
       "    .dataframe thead th {\n",
       "        text-align: right;\n",
       "    }\n",
       "</style>\n",
       "<table border=\"1\" class=\"dataframe\">\n",
       "  <thead>\n",
       "    <tr style=\"text-align: right;\">\n",
       "      <th></th>\n",
       "      <th>created_at</th>\n",
       "      <th>status</th>\n",
       "      <th>guarant_letter_uuid</th>\n",
       "      <th>comment_len</th>\n",
       "      <th>is_paid_by_patient</th>\n",
       "      <th>patient_id</th>\n",
       "      <th>has_doctor</th>\n",
       "      <th>doctor_len</th>\n",
       "      <th>diagnosis_len</th>\n",
       "      <th>diagnosis_clarification_len</th>\n",
       "      <th>...</th>\n",
       "      <th>service_status</th>\n",
       "      <th>service_quantity</th>\n",
       "      <th>service_code</th>\n",
       "      <th>folk_1_code</th>\n",
       "      <th>folk_2_code</th>\n",
       "      <th>folk_3_code</th>\n",
       "      <th>folk_4_code</th>\n",
       "      <th>service_level_3_category_hash</th>\n",
       "      <th>service_level_2_category_hash</th>\n",
       "      <th>service_level</th>\n",
       "    </tr>\n",
       "  </thead>\n",
       "  <tbody>\n",
       "    <tr>\n",
       "      <th>0</th>\n",
       "      <td>2022-02-28 22:36:30</td>\n",
       "      <td>delivered</td>\n",
       "      <td>7f2a9c90-1599-42a4-871d-b6cfc5349f24</td>\n",
       "      <td>49</td>\n",
       "      <td>False</td>\n",
       "      <td>176587</td>\n",
       "      <td>True</td>\n",
       "      <td>0</td>\n",
       "      <td>0</td>\n",
       "      <td>0</td>\n",
       "      <td>...</td>\n",
       "      <td>0</td>\n",
       "      <td>1</td>\n",
       "      <td>0fc1c709c57b84c756e2347fc5dda380</td>\n",
       "      <td>a3dd97667c8f2bb47a7391c769e2e868</td>\n",
       "      <td>c951270e425b15fc20c64da4341c1d89</td>\n",
       "      <td>63a9f0ea7bb98050796b649e85481845</td>\n",
       "      <td>NaN</td>\n",
       "      <td>c951270e425b15fc20c64da4341c1d89</td>\n",
       "      <td>a3dd97667c8f2bb47a7391c769e2e868</td>\n",
       "      <td>3</td>\n",
       "    </tr>\n",
       "    <tr>\n",
       "      <th>1</th>\n",
       "      <td>2022-02-28 22:29:36</td>\n",
       "      <td>delivered</td>\n",
       "      <td>796f3150-a8a7-40e8-b906-13b531de7bcf</td>\n",
       "      <td>44</td>\n",
       "      <td>False</td>\n",
       "      <td>177711</td>\n",
       "      <td>True</td>\n",
       "      <td>0</td>\n",
       "      <td>0</td>\n",
       "      <td>0</td>\n",
       "      <td>...</td>\n",
       "      <td>0</td>\n",
       "      <td>1</td>\n",
       "      <td>b602362c2a586c560131d97cf5b14075</td>\n",
       "      <td>195dc214249dab3c31906b4b9f83d503</td>\n",
       "      <td>b718adec73e04ce3ec720dd11a06a308</td>\n",
       "      <td>63a9f0ea7bb98050796b649e85481845</td>\n",
       "      <td>NaN</td>\n",
       "      <td>195dc214249dab3c31906b4b9f83d503</td>\n",
       "      <td>b602362c2a586c560131d97cf5b14075</td>\n",
       "      <td>3</td>\n",
       "    </tr>\n",
       "    <tr>\n",
       "      <th>2</th>\n",
       "      <td>2022-02-28 22:15:39</td>\n",
       "      <td>delivered</td>\n",
       "      <td>a48c27f7-d645-4b49-bc49-37302b406e1c</td>\n",
       "      <td>107</td>\n",
       "      <td>False</td>\n",
       "      <td>76776</td>\n",
       "      <td>True</td>\n",
       "      <td>0</td>\n",
       "      <td>0</td>\n",
       "      <td>23</td>\n",
       "      <td>...</td>\n",
       "      <td>0</td>\n",
       "      <td>1</td>\n",
       "      <td>44d7c109bf5552287fd73a30ded5d6d6</td>\n",
       "      <td>883df3cf6bc90d69afb61c2fe31be838</td>\n",
       "      <td>c951270e425b15fc20c64da4341c1d89</td>\n",
       "      <td>63a9f0ea7bb98050796b649e85481845</td>\n",
       "      <td>NaN</td>\n",
       "      <td>c951270e425b15fc20c64da4341c1d89</td>\n",
       "      <td>883df3cf6bc90d69afb61c2fe31be838</td>\n",
       "      <td>3</td>\n",
       "    </tr>\n",
       "    <tr>\n",
       "      <th>3</th>\n",
       "      <td>2022-02-28 22:15:39</td>\n",
       "      <td>delivered</td>\n",
       "      <td>a48c27f7-d645-4b49-bc49-37302b406e1c</td>\n",
       "      <td>107</td>\n",
       "      <td>False</td>\n",
       "      <td>76776</td>\n",
       "      <td>True</td>\n",
       "      <td>0</td>\n",
       "      <td>0</td>\n",
       "      <td>23</td>\n",
       "      <td>...</td>\n",
       "      <td>0</td>\n",
       "      <td>1</td>\n",
       "      <td>746da6d65d78980c617eb8ead13a74a4</td>\n",
       "      <td>bb04f5f7eeb7aa2ca785b724a1c16752</td>\n",
       "      <td>c951270e425b15fc20c64da4341c1d89</td>\n",
       "      <td>63a9f0ea7bb98050796b649e85481845</td>\n",
       "      <td>NaN</td>\n",
       "      <td>c951270e425b15fc20c64da4341c1d89</td>\n",
       "      <td>bb04f5f7eeb7aa2ca785b724a1c16752</td>\n",
       "      <td>3</td>\n",
       "    </tr>\n",
       "    <tr>\n",
       "      <th>4</th>\n",
       "      <td>2022-02-28 21:47:08</td>\n",
       "      <td>not_delivered</td>\n",
       "      <td>482b781f-a376-4978-a712-bf0ad5fd1d30</td>\n",
       "      <td>94</td>\n",
       "      <td>False</td>\n",
       "      <td>105692</td>\n",
       "      <td>True</td>\n",
       "      <td>27</td>\n",
       "      <td>0</td>\n",
       "      <td>0</td>\n",
       "      <td>...</td>\n",
       "      <td>0</td>\n",
       "      <td>1</td>\n",
       "      <td>867de31618ddaf86ccdc872f60203135</td>\n",
       "      <td>6b4bc42634c38300eb38251b1356f64e</td>\n",
       "      <td>5d7247c6609e95d4180a71551b9d8d59</td>\n",
       "      <td>92a54b358b4cf53cca4095e4697e1004</td>\n",
       "      <td>63a9f0ea7bb98050796b649e85481845</td>\n",
       "      <td>92a54b358b4cf53cca4095e4697e1004</td>\n",
       "      <td>5d7247c6609e95d4180a71551b9d8d59</td>\n",
       "      <td>4</td>\n",
       "    </tr>\n",
       "  </tbody>\n",
       "</table>\n",
       "<p>5 rows × 24 columns</p>\n",
       "</div>"
      ],
      "text/plain": [
       "           created_at         status                   guarant_letter_uuid  \\\n",
       "0 2022-02-28 22:36:30      delivered  7f2a9c90-1599-42a4-871d-b6cfc5349f24   \n",
       "1 2022-02-28 22:29:36      delivered  796f3150-a8a7-40e8-b906-13b531de7bcf   \n",
       "2 2022-02-28 22:15:39      delivered  a48c27f7-d645-4b49-bc49-37302b406e1c   \n",
       "3 2022-02-28 22:15:39      delivered  a48c27f7-d645-4b49-bc49-37302b406e1c   \n",
       "4 2022-02-28 21:47:08  not_delivered  482b781f-a376-4978-a712-bf0ad5fd1d30   \n",
       "\n",
       "   comment_len  is_paid_by_patient  patient_id  has_doctor  doctor_len  \\\n",
       "0           49               False      176587        True           0   \n",
       "1           44               False      177711        True           0   \n",
       "2          107               False       76776        True           0   \n",
       "3          107               False       76776        True           0   \n",
       "4           94               False      105692        True          27   \n",
       "\n",
       "   diagnosis_len  diagnosis_clarification_len  ...  service_status  \\\n",
       "0              0                            0  ...               0   \n",
       "1              0                            0  ...               0   \n",
       "2              0                           23  ...               0   \n",
       "3              0                           23  ...               0   \n",
       "4              0                            0  ...               0   \n",
       "\n",
       "  service_quantity                      service_code  \\\n",
       "0                1  0fc1c709c57b84c756e2347fc5dda380   \n",
       "1                1  b602362c2a586c560131d97cf5b14075   \n",
       "2                1  44d7c109bf5552287fd73a30ded5d6d6   \n",
       "3                1  746da6d65d78980c617eb8ead13a74a4   \n",
       "4                1  867de31618ddaf86ccdc872f60203135   \n",
       "\n",
       "                        folk_1_code                       folk_2_code  \\\n",
       "0  a3dd97667c8f2bb47a7391c769e2e868  c951270e425b15fc20c64da4341c1d89   \n",
       "1  195dc214249dab3c31906b4b9f83d503  b718adec73e04ce3ec720dd11a06a308   \n",
       "2  883df3cf6bc90d69afb61c2fe31be838  c951270e425b15fc20c64da4341c1d89   \n",
       "3  bb04f5f7eeb7aa2ca785b724a1c16752  c951270e425b15fc20c64da4341c1d89   \n",
       "4  6b4bc42634c38300eb38251b1356f64e  5d7247c6609e95d4180a71551b9d8d59   \n",
       "\n",
       "                        folk_3_code                       folk_4_code  \\\n",
       "0  63a9f0ea7bb98050796b649e85481845                               NaN   \n",
       "1  63a9f0ea7bb98050796b649e85481845                               NaN   \n",
       "2  63a9f0ea7bb98050796b649e85481845                               NaN   \n",
       "3  63a9f0ea7bb98050796b649e85481845                               NaN   \n",
       "4  92a54b358b4cf53cca4095e4697e1004  63a9f0ea7bb98050796b649e85481845   \n",
       "\n",
       "      service_level_3_category_hash     service_level_2_category_hash  \\\n",
       "0  c951270e425b15fc20c64da4341c1d89  a3dd97667c8f2bb47a7391c769e2e868   \n",
       "1  195dc214249dab3c31906b4b9f83d503  b602362c2a586c560131d97cf5b14075   \n",
       "2  c951270e425b15fc20c64da4341c1d89  883df3cf6bc90d69afb61c2fe31be838   \n",
       "3  c951270e425b15fc20c64da4341c1d89  bb04f5f7eeb7aa2ca785b724a1c16752   \n",
       "4  92a54b358b4cf53cca4095e4697e1004  5d7247c6609e95d4180a71551b9d8d59   \n",
       "\n",
       "  service_level  \n",
       "0             3  \n",
       "1             3  \n",
       "2             3  \n",
       "3             3  \n",
       "4             4  \n",
       "\n",
       "[5 rows x 24 columns]"
      ]
     },
     "execution_count": 786,
     "metadata": {},
     "output_type": "execute_result"
    }
   ],
   "source": [
    "df = pd.read_excel('data.xlsx')\n",
    "df.head()"
   ]
  },
  {
   "cell_type": "code",
   "execution_count": 787,
   "metadata": {},
   "outputs": [
    {
     "data": {
      "text/plain": [
       "(547868, 24)"
      ]
     },
     "execution_count": 787,
     "metadata": {},
     "output_type": "execute_result"
    }
   ],
   "source": [
    "df.shape"
   ]
  },
  {
   "cell_type": "markdown",
   "metadata": {},
   "source": [
    "Преобразуем дату в единый формат:"
   ]
  },
  {
   "cell_type": "code",
   "execution_count": 788,
   "metadata": {},
   "outputs": [
    {
     "data": {
      "text/plain": [
       "created_at    datetime64[ns]\n",
       "dtype: object"
      ]
     },
     "execution_count": 788,
     "metadata": {},
     "output_type": "execute_result"
    }
   ],
   "source": [
    "df[['created_at']].dtypes"
   ]
  },
  {
   "cell_type": "code",
   "execution_count": 789,
   "metadata": {},
   "outputs": [],
   "source": [
    "df['created_at'] = df['created_at'].dt.date"
   ]
  },
  {
   "cell_type": "markdown",
   "metadata": {},
   "source": [
    "Считываем страницу с убытками"
   ]
  },
  {
   "cell_type": "code",
   "execution_count": 1637,
   "metadata": {},
   "outputs": [],
   "source": [
    "t = pd.read_excel('data.xlsx', sheet_name='описание')"
   ]
  },
  {
   "cell_type": "code",
   "execution_count": 1638,
   "metadata": {},
   "outputs": [
    {
     "data": {
      "text/html": [
       "<div>\n",
       "<style scoped>\n",
       "    .dataframe tbody tr th:only-of-type {\n",
       "        vertical-align: middle;\n",
       "    }\n",
       "\n",
       "    .dataframe tbody tr th {\n",
       "        vertical-align: top;\n",
       "    }\n",
       "\n",
       "    .dataframe thead th {\n",
       "        text-align: right;\n",
       "    }\n",
       "</style>\n",
       "<table border=\"1\" class=\"dataframe\">\n",
       "  <thead>\n",
       "    <tr style=\"text-align: right;\">\n",
       "      <th></th>\n",
       "      <th>created_at</th>\n",
       "      <th>дата создания письма гарантийного</th>\n",
       "    </tr>\n",
       "  </thead>\n",
       "  <tbody>\n",
       "    <tr>\n",
       "      <th>0</th>\n",
       "      <td>status</td>\n",
       "      <td>статус гарантийного письма</td>\n",
       "    </tr>\n",
       "    <tr>\n",
       "      <th>1</th>\n",
       "      <td>guarant_letter_uuid</td>\n",
       "      <td>ID гарантийного письма</td>\n",
       "    </tr>\n",
       "    <tr>\n",
       "      <th>2</th>\n",
       "      <td>comment_len</td>\n",
       "      <td>длина комментария</td>\n",
       "    </tr>\n",
       "    <tr>\n",
       "      <th>3</th>\n",
       "      <td>is_paid_by_patient</td>\n",
       "      <td>оплачено было ли клиентом</td>\n",
       "    </tr>\n",
       "    <tr>\n",
       "      <th>4</th>\n",
       "      <td>patient_id</td>\n",
       "      <td>ID пациента</td>\n",
       "    </tr>\n",
       "    <tr>\n",
       "      <th>5</th>\n",
       "      <td>has_doctor</td>\n",
       "      <td>есть ли комментарий доктора</td>\n",
       "    </tr>\n",
       "    <tr>\n",
       "      <th>6</th>\n",
       "      <td>doctor_len</td>\n",
       "      <td>длина комментария</td>\n",
       "    </tr>\n",
       "    <tr>\n",
       "      <th>7</th>\n",
       "      <td>diagnosis_len</td>\n",
       "      <td>длина диагноза</td>\n",
       "    </tr>\n",
       "    <tr>\n",
       "      <th>8</th>\n",
       "      <td>diagnosis_clarification_len</td>\n",
       "      <td>длина диагноза детальнее</td>\n",
       "    </tr>\n",
       "    <tr>\n",
       "      <th>9</th>\n",
       "      <td>standartized_diagnosis_len</td>\n",
       "      <td>cтандартизированный диагноз</td>\n",
       "    </tr>\n",
       "    <tr>\n",
       "      <th>10</th>\n",
       "      <td>diagnosis_category_level_3_hash</td>\n",
       "      <td>длина диагноза 3 уровень иерархии</td>\n",
       "    </tr>\n",
       "    <tr>\n",
       "      <th>11</th>\n",
       "      <td>diagnosis_category_level_1_hash</td>\n",
       "      <td>длина диагноза 1 уровень иерархии</td>\n",
       "    </tr>\n",
       "    <tr>\n",
       "      <th>12</th>\n",
       "      <td>service_status</td>\n",
       "      <td>0 - одобрен, 1- отказ, 2 - не требует согласов...</td>\n",
       "    </tr>\n",
       "    <tr>\n",
       "      <th>13</th>\n",
       "      <td>service_quantity</td>\n",
       "      <td>NaN</td>\n",
       "    </tr>\n",
       "    <tr>\n",
       "      <th>14</th>\n",
       "      <td>service_code</td>\n",
       "      <td>NaN</td>\n",
       "    </tr>\n",
       "    <tr>\n",
       "      <th>15</th>\n",
       "      <td>folk_1_code</td>\n",
       "      <td>NaN</td>\n",
       "    </tr>\n",
       "    <tr>\n",
       "      <th>16</th>\n",
       "      <td>folk_2_code</td>\n",
       "      <td>NaN</td>\n",
       "    </tr>\n",
       "    <tr>\n",
       "      <th>17</th>\n",
       "      <td>folk_3_code</td>\n",
       "      <td>NaN</td>\n",
       "    </tr>\n",
       "    <tr>\n",
       "      <th>18</th>\n",
       "      <td>folk_4_code</td>\n",
       "      <td>NaN</td>\n",
       "    </tr>\n",
       "    <tr>\n",
       "      <th>19</th>\n",
       "      <td>service_level_3_category_hash</td>\n",
       "      <td>NaN</td>\n",
       "    </tr>\n",
       "    <tr>\n",
       "      <th>20</th>\n",
       "      <td>service_level_2_category_hash</td>\n",
       "      <td>NaN</td>\n",
       "    </tr>\n",
       "    <tr>\n",
       "      <th>21</th>\n",
       "      <td>service_level</td>\n",
       "      <td>NaN</td>\n",
       "    </tr>\n",
       "  </tbody>\n",
       "</table>\n",
       "</div>"
      ],
      "text/plain": [
       "                         created_at  \\\n",
       "0                            status   \n",
       "1               guarant_letter_uuid   \n",
       "2                       comment_len   \n",
       "3                is_paid_by_patient   \n",
       "4                        patient_id   \n",
       "5                        has_doctor   \n",
       "6                        doctor_len   \n",
       "7                     diagnosis_len   \n",
       "8       diagnosis_clarification_len   \n",
       "9        standartized_diagnosis_len   \n",
       "10  diagnosis_category_level_3_hash   \n",
       "11  diagnosis_category_level_1_hash   \n",
       "12                   service_status   \n",
       "13                 service_quantity   \n",
       "14                     service_code   \n",
       "15                      folk_1_code   \n",
       "16                      folk_2_code   \n",
       "17                      folk_3_code   \n",
       "18                      folk_4_code   \n",
       "19    service_level_3_category_hash   \n",
       "20    service_level_2_category_hash   \n",
       "21                    service_level   \n",
       "\n",
       "                    дата создания письма гарантийного  \n",
       "0                          статус гарантийного письма  \n",
       "1                              ID гарантийного письма  \n",
       "2                                   длина комментария  \n",
       "3                           оплачено было ли клиентом  \n",
       "4                                         ID пациента  \n",
       "5                         есть ли комментарий доктора  \n",
       "6                                   длина комментария  \n",
       "7                                      длина диагноза  \n",
       "8                            длина диагноза детальнее  \n",
       "9                        cтандартизированный диагноз   \n",
       "10                  длина диагноза 3 уровень иерархии  \n",
       "11                  длина диагноза 1 уровень иерархии  \n",
       "12  0 - одобрен, 1- отказ, 2 - не требует согласов...  \n",
       "13                                                NaN  \n",
       "14                                                NaN  \n",
       "15                                                NaN  \n",
       "16                                                NaN  \n",
       "17                                                NaN  \n",
       "18                                                NaN  \n",
       "19                                                NaN  \n",
       "20                                                NaN  \n",
       "21                                                NaN  "
      ]
     },
     "execution_count": 1638,
     "metadata": {},
     "output_type": "execute_result"
    }
   ],
   "source": [
    "t"
   ]
  },
  {
   "cell_type": "code",
   "execution_count": 790,
   "metadata": {},
   "outputs": [],
   "source": [
    "target = pd.read_excel('data.xlsx', sheet_name='убытки(целевая переменная)')"
   ]
  },
  {
   "cell_type": "code",
   "execution_count": 791,
   "metadata": {},
   "outputs": [
    {
     "data": {
      "text/html": [
       "<div>\n",
       "<style scoped>\n",
       "    .dataframe tbody tr th:only-of-type {\n",
       "        vertical-align: middle;\n",
       "    }\n",
       "\n",
       "    .dataframe tbody tr th {\n",
       "        vertical-align: top;\n",
       "    }\n",
       "\n",
       "    .dataframe thead th {\n",
       "        text-align: right;\n",
       "    }\n",
       "</style>\n",
       "<table border=\"1\" class=\"dataframe\">\n",
       "  <thead>\n",
       "    <tr style=\"text-align: right;\">\n",
       "      <th></th>\n",
       "      <th>patient_id</th>\n",
       "      <th>дата убытка</th>\n",
       "      <th>loss</th>\n",
       "    </tr>\n",
       "  </thead>\n",
       "  <tbody>\n",
       "    <tr>\n",
       "      <th>0</th>\n",
       "      <td>70772</td>\n",
       "      <td>2021-12-14</td>\n",
       "      <td>4.743</td>\n",
       "    </tr>\n",
       "    <tr>\n",
       "      <th>1</th>\n",
       "      <td>48418</td>\n",
       "      <td>2021-11-22</td>\n",
       "      <td>3.200</td>\n",
       "    </tr>\n",
       "    <tr>\n",
       "      <th>2</th>\n",
       "      <td>147869</td>\n",
       "      <td>2021-09-11</td>\n",
       "      <td>1.350</td>\n",
       "    </tr>\n",
       "    <tr>\n",
       "      <th>3</th>\n",
       "      <td>109626</td>\n",
       "      <td>2021-04-29</td>\n",
       "      <td>6.520</td>\n",
       "    </tr>\n",
       "    <tr>\n",
       "      <th>4</th>\n",
       "      <td>47870</td>\n",
       "      <td>2021-10-04</td>\n",
       "      <td>1.322</td>\n",
       "    </tr>\n",
       "  </tbody>\n",
       "</table>\n",
       "</div>"
      ],
      "text/plain": [
       "   patient_id дата убытка   loss\n",
       "0       70772  2021-12-14  4.743\n",
       "1       48418  2021-11-22  3.200\n",
       "2      147869  2021-09-11  1.350\n",
       "3      109626  2021-04-29  6.520\n",
       "4       47870  2021-10-04  1.322"
      ]
     },
     "execution_count": 791,
     "metadata": {},
     "output_type": "execute_result"
    }
   ],
   "source": [
    "target.head()"
   ]
  },
  {
   "cell_type": "code",
   "execution_count": 792,
   "metadata": {},
   "outputs": [],
   "source": [
    "target = target.rename(columns={'дата убытка': 'date'})"
   ]
  },
  {
   "cell_type": "code",
   "execution_count": 793,
   "metadata": {},
   "outputs": [
    {
     "data": {
      "text/plain": [
       "(464181, 3)"
      ]
     },
     "execution_count": 793,
     "metadata": {},
     "output_type": "execute_result"
    }
   ],
   "source": [
    "target.shape"
   ]
  },
  {
   "cell_type": "code",
   "execution_count": 794,
   "metadata": {},
   "outputs": [
    {
     "data": {
      "text/plain": [
       "patient_id             int64\n",
       "date          datetime64[ns]\n",
       "loss                 float64\n",
       "dtype: object"
      ]
     },
     "execution_count": 794,
     "metadata": {},
     "output_type": "execute_result"
    }
   ],
   "source": [
    "target.dtypes"
   ]
  },
  {
   "cell_type": "markdown",
   "metadata": {},
   "source": [
    "Преобразуем дату и тут:"
   ]
  },
  {
   "cell_type": "code",
   "execution_count": 795,
   "metadata": {},
   "outputs": [],
   "source": [
    "target['date'] = target['date'].dt.date"
   ]
  },
  {
   "cell_type": "markdown",
   "metadata": {},
   "source": [
    "Соединяем данные в одну таблицу. Оставляем только тех пациентов, записи о которых есть в обоих таблицах (причем даты тоже должны совпадать)"
   ]
  },
  {
   "cell_type": "code",
   "execution_count": 1596,
   "metadata": {},
   "outputs": [],
   "source": [
    "result = pd.merge(df, target, how=\"inner\", left_on=['patient_id', 'created_at'], right_on=['patient_id', 'date'])"
   ]
  },
  {
   "cell_type": "code",
   "execution_count": 1597,
   "metadata": {},
   "outputs": [
    {
     "data": {
      "text/html": [
       "<div>\n",
       "<style scoped>\n",
       "    .dataframe tbody tr th:only-of-type {\n",
       "        vertical-align: middle;\n",
       "    }\n",
       "\n",
       "    .dataframe tbody tr th {\n",
       "        vertical-align: top;\n",
       "    }\n",
       "\n",
       "    .dataframe thead th {\n",
       "        text-align: right;\n",
       "    }\n",
       "</style>\n",
       "<table border=\"1\" class=\"dataframe\">\n",
       "  <thead>\n",
       "    <tr style=\"text-align: right;\">\n",
       "      <th></th>\n",
       "      <th>created_at</th>\n",
       "      <th>status</th>\n",
       "      <th>guarant_letter_uuid</th>\n",
       "      <th>comment_len</th>\n",
       "      <th>is_paid_by_patient</th>\n",
       "      <th>patient_id</th>\n",
       "      <th>has_doctor</th>\n",
       "      <th>doctor_len</th>\n",
       "      <th>diagnosis_len</th>\n",
       "      <th>diagnosis_clarification_len</th>\n",
       "      <th>...</th>\n",
       "      <th>service_code</th>\n",
       "      <th>folk_1_code</th>\n",
       "      <th>folk_2_code</th>\n",
       "      <th>folk_3_code</th>\n",
       "      <th>folk_4_code</th>\n",
       "      <th>service_level_3_category_hash</th>\n",
       "      <th>service_level_2_category_hash</th>\n",
       "      <th>service_level</th>\n",
       "      <th>date</th>\n",
       "      <th>loss</th>\n",
       "    </tr>\n",
       "  </thead>\n",
       "  <tbody>\n",
       "    <tr>\n",
       "      <th>0</th>\n",
       "      <td>2022-02-28</td>\n",
       "      <td>delivered</td>\n",
       "      <td>7f2a9c90-1599-42a4-871d-b6cfc5349f24</td>\n",
       "      <td>49</td>\n",
       "      <td>False</td>\n",
       "      <td>176587</td>\n",
       "      <td>True</td>\n",
       "      <td>0</td>\n",
       "      <td>0</td>\n",
       "      <td>0</td>\n",
       "      <td>...</td>\n",
       "      <td>0fc1c709c57b84c756e2347fc5dda380</td>\n",
       "      <td>a3dd97667c8f2bb47a7391c769e2e868</td>\n",
       "      <td>c951270e425b15fc20c64da4341c1d89</td>\n",
       "      <td>63a9f0ea7bb98050796b649e85481845</td>\n",
       "      <td>NaN</td>\n",
       "      <td>c951270e425b15fc20c64da4341c1d89</td>\n",
       "      <td>a3dd97667c8f2bb47a7391c769e2e868</td>\n",
       "      <td>3</td>\n",
       "      <td>2022-02-28</td>\n",
       "      <td>5.6800</td>\n",
       "    </tr>\n",
       "    <tr>\n",
       "      <th>1</th>\n",
       "      <td>2022-02-28</td>\n",
       "      <td>delivered</td>\n",
       "      <td>fd747e32-0ee2-4418-84ba-e78216119ed5</td>\n",
       "      <td>301</td>\n",
       "      <td>False</td>\n",
       "      <td>85675</td>\n",
       "      <td>True</td>\n",
       "      <td>0</td>\n",
       "      <td>21</td>\n",
       "      <td>0</td>\n",
       "      <td>...</td>\n",
       "      <td>c1babc7cb238ab308da4b0a23fd604b2</td>\n",
       "      <td>NaN</td>\n",
       "      <td>63a9f0ea7bb98050796b649e85481845</td>\n",
       "      <td>NaN</td>\n",
       "      <td>NaN</td>\n",
       "      <td>b95c3d50fa47443166f7d356eaed8006</td>\n",
       "      <td>c1babc7cb238ab308da4b0a23fd604b2</td>\n",
       "      <td>2</td>\n",
       "      <td>2022-02-28</td>\n",
       "      <td>8.6165</td>\n",
       "    </tr>\n",
       "    <tr>\n",
       "      <th>2</th>\n",
       "      <td>2022-02-28</td>\n",
       "      <td>delivered</td>\n",
       "      <td>56344847-915f-4c42-adfe-18ac503c77cb</td>\n",
       "      <td>172</td>\n",
       "      <td>False</td>\n",
       "      <td>85675</td>\n",
       "      <td>True</td>\n",
       "      <td>0</td>\n",
       "      <td>46</td>\n",
       "      <td>0</td>\n",
       "      <td>...</td>\n",
       "      <td>993478970b98d4a20bf91e64aad312bd</td>\n",
       "      <td>b95c3d50fa47443166f7d356eaed8006</td>\n",
       "      <td>NaN</td>\n",
       "      <td>63a9f0ea7bb98050796b649e85481845</td>\n",
       "      <td>NaN</td>\n",
       "      <td>b95c3d50fa47443166f7d356eaed8006</td>\n",
       "      <td>993478970b98d4a20bf91e64aad312bd</td>\n",
       "      <td>3</td>\n",
       "      <td>2022-02-28</td>\n",
       "      <td>8.6165</td>\n",
       "    </tr>\n",
       "    <tr>\n",
       "      <th>3</th>\n",
       "      <td>2022-02-28</td>\n",
       "      <td>delivered</td>\n",
       "      <td>f42bde97-07a1-4235-93e9-7abfed0f398f</td>\n",
       "      <td>77</td>\n",
       "      <td>False</td>\n",
       "      <td>192505</td>\n",
       "      <td>True</td>\n",
       "      <td>0</td>\n",
       "      <td>0</td>\n",
       "      <td>0</td>\n",
       "      <td>...</td>\n",
       "      <td>431d09a75b317feddeffee19652edf60</td>\n",
       "      <td>f55e86c273940887727c2620ec18190f</td>\n",
       "      <td>c951270e425b15fc20c64da4341c1d89</td>\n",
       "      <td>63a9f0ea7bb98050796b649e85481845</td>\n",
       "      <td>NaN</td>\n",
       "      <td>c951270e425b15fc20c64da4341c1d89</td>\n",
       "      <td>f55e86c273940887727c2620ec18190f</td>\n",
       "      <td>3</td>\n",
       "      <td>2022-02-28</td>\n",
       "      <td>2.6000</td>\n",
       "    </tr>\n",
       "    <tr>\n",
       "      <th>4</th>\n",
       "      <td>2022-02-28</td>\n",
       "      <td>not_delivered</td>\n",
       "      <td>1c4de961-c862-47cc-aaca-30876cd55134</td>\n",
       "      <td>59</td>\n",
       "      <td>False</td>\n",
       "      <td>159670</td>\n",
       "      <td>True</td>\n",
       "      <td>0</td>\n",
       "      <td>0</td>\n",
       "      <td>0</td>\n",
       "      <td>...</td>\n",
       "      <td>0896fe692fbd93c5b34112bb28bf6a85</td>\n",
       "      <td>a8fa6b553b655657f943cb8fd85859d1</td>\n",
       "      <td>b718adec73e04ce3ec720dd11a06a308</td>\n",
       "      <td>63a9f0ea7bb98050796b649e85481845</td>\n",
       "      <td>NaN</td>\n",
       "      <td>a8fa6b553b655657f943cb8fd85859d1</td>\n",
       "      <td>0896fe692fbd93c5b34112bb28bf6a85</td>\n",
       "      <td>3</td>\n",
       "      <td>2022-02-28</td>\n",
       "      <td>2.6672</td>\n",
       "    </tr>\n",
       "  </tbody>\n",
       "</table>\n",
       "<p>5 rows × 26 columns</p>\n",
       "</div>"
      ],
      "text/plain": [
       "   created_at         status                   guarant_letter_uuid  \\\n",
       "0  2022-02-28      delivered  7f2a9c90-1599-42a4-871d-b6cfc5349f24   \n",
       "1  2022-02-28      delivered  fd747e32-0ee2-4418-84ba-e78216119ed5   \n",
       "2  2022-02-28      delivered  56344847-915f-4c42-adfe-18ac503c77cb   \n",
       "3  2022-02-28      delivered  f42bde97-07a1-4235-93e9-7abfed0f398f   \n",
       "4  2022-02-28  not_delivered  1c4de961-c862-47cc-aaca-30876cd55134   \n",
       "\n",
       "   comment_len  is_paid_by_patient  patient_id  has_doctor  doctor_len  \\\n",
       "0           49               False      176587        True           0   \n",
       "1          301               False       85675        True           0   \n",
       "2          172               False       85675        True           0   \n",
       "3           77               False      192505        True           0   \n",
       "4           59               False      159670        True           0   \n",
       "\n",
       "   diagnosis_len  diagnosis_clarification_len  ...  \\\n",
       "0              0                            0  ...   \n",
       "1             21                            0  ...   \n",
       "2             46                            0  ...   \n",
       "3              0                            0  ...   \n",
       "4              0                            0  ...   \n",
       "\n",
       "                       service_code                       folk_1_code  \\\n",
       "0  0fc1c709c57b84c756e2347fc5dda380  a3dd97667c8f2bb47a7391c769e2e868   \n",
       "1  c1babc7cb238ab308da4b0a23fd604b2                               NaN   \n",
       "2  993478970b98d4a20bf91e64aad312bd  b95c3d50fa47443166f7d356eaed8006   \n",
       "3  431d09a75b317feddeffee19652edf60  f55e86c273940887727c2620ec18190f   \n",
       "4  0896fe692fbd93c5b34112bb28bf6a85  a8fa6b553b655657f943cb8fd85859d1   \n",
       "\n",
       "                        folk_2_code                       folk_3_code  \\\n",
       "0  c951270e425b15fc20c64da4341c1d89  63a9f0ea7bb98050796b649e85481845   \n",
       "1  63a9f0ea7bb98050796b649e85481845                               NaN   \n",
       "2                               NaN  63a9f0ea7bb98050796b649e85481845   \n",
       "3  c951270e425b15fc20c64da4341c1d89  63a9f0ea7bb98050796b649e85481845   \n",
       "4  b718adec73e04ce3ec720dd11a06a308  63a9f0ea7bb98050796b649e85481845   \n",
       "\n",
       "   folk_4_code     service_level_3_category_hash  \\\n",
       "0          NaN  c951270e425b15fc20c64da4341c1d89   \n",
       "1          NaN  b95c3d50fa47443166f7d356eaed8006   \n",
       "2          NaN  b95c3d50fa47443166f7d356eaed8006   \n",
       "3          NaN  c951270e425b15fc20c64da4341c1d89   \n",
       "4          NaN  a8fa6b553b655657f943cb8fd85859d1   \n",
       "\n",
       "      service_level_2_category_hash service_level        date    loss  \n",
       "0  a3dd97667c8f2bb47a7391c769e2e868             3  2022-02-28  5.6800  \n",
       "1  c1babc7cb238ab308da4b0a23fd604b2             2  2022-02-28  8.6165  \n",
       "2  993478970b98d4a20bf91e64aad312bd             3  2022-02-28  8.6165  \n",
       "3  f55e86c273940887727c2620ec18190f             3  2022-02-28  2.6000  \n",
       "4  0896fe692fbd93c5b34112bb28bf6a85             3  2022-02-28  2.6672  \n",
       "\n",
       "[5 rows x 26 columns]"
      ]
     },
     "execution_count": 1597,
     "metadata": {},
     "output_type": "execute_result"
    }
   ],
   "source": [
    "result.head()"
   ]
  },
  {
   "cell_type": "code",
   "execution_count": 1598,
   "metadata": {},
   "outputs": [],
   "source": [
    "result = result.drop(columns=['date'])"
   ]
  },
  {
   "cell_type": "code",
   "execution_count": 1599,
   "metadata": {},
   "outputs": [
    {
     "data": {
      "text/plain": [
       "(199808, 25)"
      ]
     },
     "execution_count": 1599,
     "metadata": {},
     "output_type": "execute_result"
    }
   ],
   "source": [
    "result.shape"
   ]
  },
  {
   "cell_type": "markdown",
   "metadata": {},
   "source": [
    "Считаем для каждого клиента сумму всех убытков за месяц"
   ]
  },
  {
   "cell_type": "code",
   "execution_count": 1600,
   "metadata": {},
   "outputs": [],
   "source": [
    "result = result.sort_values('created_at')"
   ]
  },
  {
   "cell_type": "code",
   "execution_count": 1601,
   "metadata": {},
   "outputs": [],
   "source": [
    "result['per_month'] = np.nan\n",
    "result['per_week'] = np.nan\n",
    "result['target'] = np.nan"
   ]
  },
  {
   "cell_type": "code",
   "execution_count": 1602,
   "metadata": {},
   "outputs": [],
   "source": [
    "def diff_month(d1, d2):\n",
    "    return (d1.year - d2.year) * 12 + d1.month - d2.month"
   ]
  },
  {
   "cell_type": "code",
   "execution_count": 1603,
   "metadata": {},
   "outputs": [],
   "source": [
    "from dateutil import rrule\n",
    "def weeks_between(start_date, end_date):\n",
    "    weeks = rrule.rrule(rrule.WEEKLY, dtstart=start_date, until=end_date)\n",
    "    return weeks.count()"
   ]
  },
  {
   "cell_type": "code",
   "execution_count": 1609,
   "metadata": {},
   "outputs": [],
   "source": [
    "temp = result.drop_duplicates(subset=[\"guarant_letter_uuid\"], keep='first')"
   ]
  },
  {
   "cell_type": "code",
   "execution_count": 1610,
   "metadata": {},
   "outputs": [],
   "source": [
    "temp = temp.drop_duplicates(subset=[\"created_at\", 'patient_id'], keep='first')"
   ]
  },
  {
   "cell_type": "code",
   "execution_count": 1611,
   "metadata": {},
   "outputs": [],
   "source": [
    "temp['per_month'] = 1\n",
    "temp['per_week'] = 1\n",
    "temp['target'] = 0"
   ]
  },
  {
   "cell_type": "code",
   "execution_count": 1612,
   "metadata": {},
   "outputs": [],
   "source": [
    "for i in temp['patient_id'].unique():\n",
    "    date = temp.loc[temp['patient_id'] == i, 'created_at']\n",
    "    for j in date.index:\n",
    "        summ = temp.loc[j, 'loss']\n",
    "        for k in date.index:\n",
    "            if abs(diff_month(date[j], date[k])) <= 1 and j != k:\n",
    "                temp.loc[j, 'per_month'] += 1\n",
    "                summ += temp.loc[k, 'loss']\n",
    "                if abs(weeks_between(date[j], date[k]) <= 1):\n",
    "                    temp.loc[j, 'per_week'] += 1\n",
    "            temp.loc[j, 'target'] = summ"
   ]
  },
  {
   "cell_type": "code",
   "execution_count": 1613,
   "metadata": {},
   "outputs": [
    {
     "data": {
      "text/html": [
       "<div>\n",
       "<style scoped>\n",
       "    .dataframe tbody tr th:only-of-type {\n",
       "        vertical-align: middle;\n",
       "    }\n",
       "\n",
       "    .dataframe tbody tr th {\n",
       "        vertical-align: top;\n",
       "    }\n",
       "\n",
       "    .dataframe thead th {\n",
       "        text-align: right;\n",
       "    }\n",
       "</style>\n",
       "<table border=\"1\" class=\"dataframe\">\n",
       "  <thead>\n",
       "    <tr style=\"text-align: right;\">\n",
       "      <th></th>\n",
       "      <th>created_at</th>\n",
       "      <th>status</th>\n",
       "      <th>guarant_letter_uuid</th>\n",
       "      <th>comment_len</th>\n",
       "      <th>is_paid_by_patient</th>\n",
       "      <th>patient_id</th>\n",
       "      <th>has_doctor</th>\n",
       "      <th>doctor_len</th>\n",
       "      <th>diagnosis_len</th>\n",
       "      <th>diagnosis_clarification_len</th>\n",
       "      <th>...</th>\n",
       "      <th>folk_2_code</th>\n",
       "      <th>folk_3_code</th>\n",
       "      <th>folk_4_code</th>\n",
       "      <th>service_level_3_category_hash</th>\n",
       "      <th>service_level_2_category_hash</th>\n",
       "      <th>service_level</th>\n",
       "      <th>loss</th>\n",
       "      <th>per_month</th>\n",
       "      <th>per_week</th>\n",
       "      <th>target</th>\n",
       "    </tr>\n",
       "  </thead>\n",
       "  <tbody>\n",
       "    <tr>\n",
       "      <th>198974</th>\n",
       "      <td>2020-07-01</td>\n",
       "      <td>created</td>\n",
       "      <td>5e7ea5a8-6767-4082-a026-44f43ddb57f9</td>\n",
       "      <td>104</td>\n",
       "      <td>False</td>\n",
       "      <td>44227</td>\n",
       "      <td>True</td>\n",
       "      <td>0</td>\n",
       "      <td>52</td>\n",
       "      <td>0</td>\n",
       "      <td>...</td>\n",
       "      <td>c951270e425b15fc20c64da4341c1d89</td>\n",
       "      <td>63a9f0ea7bb98050796b649e85481845</td>\n",
       "      <td>NaN</td>\n",
       "      <td>c951270e425b15fc20c64da4341c1d89</td>\n",
       "      <td>bb04f5f7eeb7aa2ca785b724a1c16752</td>\n",
       "      <td>3</td>\n",
       "      <td>3.4240</td>\n",
       "      <td>4</td>\n",
       "      <td>3</td>\n",
       "      <td>14.3640</td>\n",
       "    </tr>\n",
       "    <tr>\n",
       "      <th>198984</th>\n",
       "      <td>2020-07-01</td>\n",
       "      <td>created</td>\n",
       "      <td>84718b98-e226-4cd2-92a7-6d4d2ad73a63</td>\n",
       "      <td>46</td>\n",
       "      <td>False</td>\n",
       "      <td>40903</td>\n",
       "      <td>True</td>\n",
       "      <td>0</td>\n",
       "      <td>28</td>\n",
       "      <td>0</td>\n",
       "      <td>...</td>\n",
       "      <td>c951270e425b15fc20c64da4341c1d89</td>\n",
       "      <td>63a9f0ea7bb98050796b649e85481845</td>\n",
       "      <td>NaN</td>\n",
       "      <td>c951270e425b15fc20c64da4341c1d89</td>\n",
       "      <td>883df3cf6bc90d69afb61c2fe31be838</td>\n",
       "      <td>3</td>\n",
       "      <td>5.1452</td>\n",
       "      <td>1</td>\n",
       "      <td>1</td>\n",
       "      <td>5.1452</td>\n",
       "    </tr>\n",
       "    <tr>\n",
       "      <th>198985</th>\n",
       "      <td>2020-07-01</td>\n",
       "      <td>created</td>\n",
       "      <td>b831214c-affa-4b47-8eb6-825941e1e2dd</td>\n",
       "      <td>31</td>\n",
       "      <td>False</td>\n",
       "      <td>44974</td>\n",
       "      <td>True</td>\n",
       "      <td>0</td>\n",
       "      <td>109</td>\n",
       "      <td>0</td>\n",
       "      <td>...</td>\n",
       "      <td>a24e26abe7d3a3fbd823fcbc34f32830</td>\n",
       "      <td>29e72acb32dec80d0e231748af6f5a28</td>\n",
       "      <td>2622e9b348f05f74e3e4bb9b7d213dc8</td>\n",
       "      <td>2622e9b348f05f74e3e4bb9b7d213dc8</td>\n",
       "      <td>29e72acb32dec80d0e231748af6f5a28</td>\n",
       "      <td>5</td>\n",
       "      <td>3.4580</td>\n",
       "      <td>1</td>\n",
       "      <td>1</td>\n",
       "      <td>3.4580</td>\n",
       "    </tr>\n",
       "    <tr>\n",
       "      <th>198986</th>\n",
       "      <td>2020-07-01</td>\n",
       "      <td>created</td>\n",
       "      <td>49b88473-5955-4894-81e8-b878f11e7ace</td>\n",
       "      <td>190</td>\n",
       "      <td>False</td>\n",
       "      <td>45562</td>\n",
       "      <td>True</td>\n",
       "      <td>0</td>\n",
       "      <td>203</td>\n",
       "      <td>0</td>\n",
       "      <td>...</td>\n",
       "      <td>92a54b358b4cf53cca4095e4697e1004</td>\n",
       "      <td>63a9f0ea7bb98050796b649e85481845</td>\n",
       "      <td>NaN</td>\n",
       "      <td>92a54b358b4cf53cca4095e4697e1004</td>\n",
       "      <td>1349bbcd6601ad1b114288db7664954c</td>\n",
       "      <td>3</td>\n",
       "      <td>4.8000</td>\n",
       "      <td>2</td>\n",
       "      <td>2</td>\n",
       "      <td>9.6000</td>\n",
       "    </tr>\n",
       "    <tr>\n",
       "      <th>198990</th>\n",
       "      <td>2020-07-01</td>\n",
       "      <td>created</td>\n",
       "      <td>93f8a415-e973-47c3-bc2c-def48e095a9c</td>\n",
       "      <td>161</td>\n",
       "      <td>False</td>\n",
       "      <td>39968</td>\n",
       "      <td>True</td>\n",
       "      <td>0</td>\n",
       "      <td>83</td>\n",
       "      <td>0</td>\n",
       "      <td>...</td>\n",
       "      <td>b718adec73e04ce3ec720dd11a06a308</td>\n",
       "      <td>63a9f0ea7bb98050796b649e85481845</td>\n",
       "      <td>NaN</td>\n",
       "      <td>195dc214249dab3c31906b4b9f83d503</td>\n",
       "      <td>31842b3c8985ce35e9f07d4ed759cb44</td>\n",
       "      <td>3</td>\n",
       "      <td>4.0000</td>\n",
       "      <td>4</td>\n",
       "      <td>2</td>\n",
       "      <td>16.4500</td>\n",
       "    </tr>\n",
       "  </tbody>\n",
       "</table>\n",
       "<p>5 rows × 28 columns</p>\n",
       "</div>"
      ],
      "text/plain": [
       "        created_at   status                   guarant_letter_uuid  \\\n",
       "198974  2020-07-01  created  5e7ea5a8-6767-4082-a026-44f43ddb57f9   \n",
       "198984  2020-07-01  created  84718b98-e226-4cd2-92a7-6d4d2ad73a63   \n",
       "198985  2020-07-01  created  b831214c-affa-4b47-8eb6-825941e1e2dd   \n",
       "198986  2020-07-01  created  49b88473-5955-4894-81e8-b878f11e7ace   \n",
       "198990  2020-07-01  created  93f8a415-e973-47c3-bc2c-def48e095a9c   \n",
       "\n",
       "        comment_len  is_paid_by_patient  patient_id  has_doctor  doctor_len  \\\n",
       "198974          104               False       44227        True           0   \n",
       "198984           46               False       40903        True           0   \n",
       "198985           31               False       44974        True           0   \n",
       "198986          190               False       45562        True           0   \n",
       "198990          161               False       39968        True           0   \n",
       "\n",
       "        diagnosis_len  diagnosis_clarification_len  ...  \\\n",
       "198974             52                            0  ...   \n",
       "198984             28                            0  ...   \n",
       "198985            109                            0  ...   \n",
       "198986            203                            0  ...   \n",
       "198990             83                            0  ...   \n",
       "\n",
       "                             folk_2_code                       folk_3_code  \\\n",
       "198974  c951270e425b15fc20c64da4341c1d89  63a9f0ea7bb98050796b649e85481845   \n",
       "198984  c951270e425b15fc20c64da4341c1d89  63a9f0ea7bb98050796b649e85481845   \n",
       "198985  a24e26abe7d3a3fbd823fcbc34f32830  29e72acb32dec80d0e231748af6f5a28   \n",
       "198986  92a54b358b4cf53cca4095e4697e1004  63a9f0ea7bb98050796b649e85481845   \n",
       "198990  b718adec73e04ce3ec720dd11a06a308  63a9f0ea7bb98050796b649e85481845   \n",
       "\n",
       "                             folk_4_code     service_level_3_category_hash  \\\n",
       "198974                               NaN  c951270e425b15fc20c64da4341c1d89   \n",
       "198984                               NaN  c951270e425b15fc20c64da4341c1d89   \n",
       "198985  2622e9b348f05f74e3e4bb9b7d213dc8  2622e9b348f05f74e3e4bb9b7d213dc8   \n",
       "198986                               NaN  92a54b358b4cf53cca4095e4697e1004   \n",
       "198990                               NaN  195dc214249dab3c31906b4b9f83d503   \n",
       "\n",
       "           service_level_2_category_hash  service_level    loss per_month  \\\n",
       "198974  bb04f5f7eeb7aa2ca785b724a1c16752              3  3.4240         4   \n",
       "198984  883df3cf6bc90d69afb61c2fe31be838              3  5.1452         1   \n",
       "198985  29e72acb32dec80d0e231748af6f5a28              5  3.4580         1   \n",
       "198986  1349bbcd6601ad1b114288db7664954c              3  4.8000         2   \n",
       "198990  31842b3c8985ce35e9f07d4ed759cb44              3  4.0000         4   \n",
       "\n",
       "       per_week   target  \n",
       "198974        3  14.3640  \n",
       "198984        1   5.1452  \n",
       "198985        1   3.4580  \n",
       "198986        2   9.6000  \n",
       "198990        2  16.4500  \n",
       "\n",
       "[5 rows x 28 columns]"
      ]
     },
     "execution_count": 1613,
     "metadata": {},
     "output_type": "execute_result"
    }
   ],
   "source": [
    "temp.head()"
   ]
  },
  {
   "cell_type": "code",
   "execution_count": 1614,
   "metadata": {},
   "outputs": [],
   "source": [
    "result = result.combine_first(temp)"
   ]
  },
  {
   "cell_type": "code",
   "execution_count": 1615,
   "metadata": {},
   "outputs": [],
   "source": [
    "for i in result['patient_id'].unique():\n",
    "    date = temp.loc[temp['patient_id'] == i, 'created_at']\n",
    "    for j in date.values:\n",
    "        result.loc[(result['patient_id'] == i) & (result['created_at'] == j), 'per_month'] = temp.loc[(temp['patient_id'] == i) & (temp['created_at'] == j), 'per_month'].values[0]\n",
    "        result.loc[(result['patient_id'] == i) & (result['created_at'] == j), 'per_week'] = temp.loc[(temp['patient_id'] == i) & (temp['created_at'] == j), 'per_week'].values[0]\n",
    "        result.loc[(result['patient_id'] == i) & (result['created_at'] == j), 'target'] = temp.loc[(temp['patient_id'] == i) & (temp['created_at'] == j), 'target'].values[0]"
   ]
  },
  {
   "cell_type": "markdown",
   "metadata": {},
   "source": [
    "Рассчитываем кол-во уникальных значений, нулевых и пустых значений + доля в % от общего кол-ва"
   ]
  },
  {
   "cell_type": "code",
   "execution_count": 1318,
   "metadata": {},
   "outputs": [],
   "source": [
    "unique = []\n",
    "unique_per = []\n",
    "j = 0\n",
    "for i in result.columns:\n",
    "    unique.append(result[i].nunique())\n",
    "    unique_per.append(100 * unique[j] / result[i].shape[0])\n",
    "    j += 1"
   ]
  },
  {
   "cell_type": "code",
   "execution_count": 1319,
   "metadata": {},
   "outputs": [
    {
     "data": {
      "text/html": [
       "<div>\n",
       "<style scoped>\n",
       "    .dataframe tbody tr th:only-of-type {\n",
       "        vertical-align: middle;\n",
       "    }\n",
       "\n",
       "    .dataframe tbody tr th {\n",
       "        vertical-align: top;\n",
       "    }\n",
       "\n",
       "    .dataframe thead th {\n",
       "        text-align: right;\n",
       "    }\n",
       "</style>\n",
       "<table border=\"1\" class=\"dataframe\">\n",
       "  <thead>\n",
       "    <tr style=\"text-align: right;\">\n",
       "      <th></th>\n",
       "      <th>created_at</th>\n",
       "      <th>status</th>\n",
       "      <th>guarant_letter_uuid</th>\n",
       "      <th>comment_len</th>\n",
       "      <th>is_paid_by_patient</th>\n",
       "      <th>patient_id</th>\n",
       "      <th>has_doctor</th>\n",
       "      <th>doctor_len</th>\n",
       "      <th>diagnosis_len</th>\n",
       "      <th>diagnosis_clarification_len</th>\n",
       "      <th>...</th>\n",
       "      <th>folk_2_code</th>\n",
       "      <th>folk_3_code</th>\n",
       "      <th>folk_4_code</th>\n",
       "      <th>service_level_3_category_hash</th>\n",
       "      <th>service_level_2_category_hash</th>\n",
       "      <th>service_level</th>\n",
       "      <th>loss</th>\n",
       "      <th>per_month</th>\n",
       "      <th>per_week</th>\n",
       "      <th>target</th>\n",
       "    </tr>\n",
       "  </thead>\n",
       "  <tbody>\n",
       "    <tr>\n",
       "      <th>Кол-во уникальных значений</th>\n",
       "      <td>166.000</td>\n",
       "      <td>5.00</td>\n",
       "      <td>15763.000</td>\n",
       "      <td>722.000</td>\n",
       "      <td>1.000</td>\n",
       "      <td>8599.000</td>\n",
       "      <td>1.000</td>\n",
       "      <td>65.00</td>\n",
       "      <td>155.00</td>\n",
       "      <td>298.000</td>\n",
       "      <td>...</td>\n",
       "      <td>118.000</td>\n",
       "      <td>21.000</td>\n",
       "      <td>9.000</td>\n",
       "      <td>38.000</td>\n",
       "      <td>486.000</td>\n",
       "      <td>6.000</td>\n",
       "      <td>3839.000</td>\n",
       "      <td>12.000</td>\n",
       "      <td>12.000</td>\n",
       "      <td>4429.000</td>\n",
       "    </tr>\n",
       "    <tr>\n",
       "      <th>Доля уникальных значений % от общего кол-ва</th>\n",
       "      <td>0.332</td>\n",
       "      <td>0.01</td>\n",
       "      <td>31.526</td>\n",
       "      <td>1.444</td>\n",
       "      <td>0.002</td>\n",
       "      <td>17.198</td>\n",
       "      <td>0.002</td>\n",
       "      <td>0.13</td>\n",
       "      <td>0.31</td>\n",
       "      <td>0.596</td>\n",
       "      <td>...</td>\n",
       "      <td>0.236</td>\n",
       "      <td>0.042</td>\n",
       "      <td>0.018</td>\n",
       "      <td>0.076</td>\n",
       "      <td>0.972</td>\n",
       "      <td>0.012</td>\n",
       "      <td>7.678</td>\n",
       "      <td>0.024</td>\n",
       "      <td>0.024</td>\n",
       "      <td>8.858</td>\n",
       "    </tr>\n",
       "  </tbody>\n",
       "</table>\n",
       "<p>2 rows × 28 columns</p>\n",
       "</div>"
      ],
      "text/plain": [
       "                                             created_at  status  \\\n",
       "Кол-во уникальных значений                      166.000    5.00   \n",
       "Доля уникальных значений % от общего кол-ва       0.332    0.01   \n",
       "\n",
       "                                             guarant_letter_uuid  comment_len  \\\n",
       "Кол-во уникальных значений                             15763.000      722.000   \n",
       "Доля уникальных значений % от общего кол-ва               31.526        1.444   \n",
       "\n",
       "                                             is_paid_by_patient  patient_id  \\\n",
       "Кол-во уникальных значений                                1.000    8599.000   \n",
       "Доля уникальных значений % от общего кол-ва               0.002      17.198   \n",
       "\n",
       "                                             has_doctor  doctor_len  \\\n",
       "Кол-во уникальных значений                        1.000       65.00   \n",
       "Доля уникальных значений % от общего кол-ва       0.002        0.13   \n",
       "\n",
       "                                             diagnosis_len  \\\n",
       "Кол-во уникальных значений                          155.00   \n",
       "Доля уникальных значений % от общего кол-ва           0.31   \n",
       "\n",
       "                                             diagnosis_clarification_len  ...  \\\n",
       "Кол-во уникальных значений                                       298.000  ...   \n",
       "Доля уникальных значений % от общего кол-ва                        0.596  ...   \n",
       "\n",
       "                                             folk_2_code  folk_3_code  \\\n",
       "Кол-во уникальных значений                       118.000       21.000   \n",
       "Доля уникальных значений % от общего кол-ва        0.236        0.042   \n",
       "\n",
       "                                             folk_4_code  \\\n",
       "Кол-во уникальных значений                         9.000   \n",
       "Доля уникальных значений % от общего кол-ва        0.018   \n",
       "\n",
       "                                             service_level_3_category_hash  \\\n",
       "Кол-во уникальных значений                                          38.000   \n",
       "Доля уникальных значений % от общего кол-ва                          0.076   \n",
       "\n",
       "                                             service_level_2_category_hash  \\\n",
       "Кол-во уникальных значений                                         486.000   \n",
       "Доля уникальных значений % от общего кол-ва                          0.972   \n",
       "\n",
       "                                             service_level      loss  \\\n",
       "Кол-во уникальных значений                           6.000  3839.000   \n",
       "Доля уникальных значений % от общего кол-ва          0.012     7.678   \n",
       "\n",
       "                                             per_month  per_week    target  \n",
       "Кол-во уникальных значений                      12.000    12.000  4429.000  \n",
       "Доля уникальных значений % от общего кол-ва      0.024     0.024     8.858  \n",
       "\n",
       "[2 rows x 28 columns]"
      ]
     },
     "execution_count": 1319,
     "metadata": {},
     "output_type": "execute_result"
    }
   ],
   "source": [
    "pd.DataFrame(data=[unique] + [unique_per], \n",
    "                      columns=result.columns,\n",
    "                     index=['Кол-во уникальных значений', 'Доля уникальных значений % от общего кол-ва'])"
   ]
  },
  {
   "cell_type": "code",
   "execution_count": 1320,
   "metadata": {},
   "outputs": [
    {
     "name": "stdout",
     "output_type": "stream",
     "text": [
      "[False]\n",
      "[ True]\n"
     ]
    }
   ],
   "source": [
    "print(result['is_paid_by_patient'].unique())\n",
    "print(result['has_doctor'].unique())"
   ]
  },
  {
   "cell_type": "markdown",
   "metadata": {},
   "source": [
    "Выше видно, что признаки has_doctor и is_paid_by_patient принимают на всем датасете одно значение, удаляем их"
   ]
  },
  {
   "cell_type": "code",
   "execution_count": 1321,
   "metadata": {},
   "outputs": [],
   "source": [
    "result = result.drop(columns=['is_paid_by_patient', 'has_doctor'])"
   ]
  },
  {
   "cell_type": "code",
   "execution_count": 1322,
   "metadata": {},
   "outputs": [],
   "source": [
    "null = []\n",
    "null_per = []\n",
    "j = 0\n",
    "for i in result.columns:\n",
    "    null.append((result[i] == 0).sum())\n",
    "    null_per.append(100 * null[j] / result[i].shape[0])\n",
    "    j += 1"
   ]
  },
  {
   "cell_type": "code",
   "execution_count": 1323,
   "metadata": {},
   "outputs": [
    {
     "data": {
      "text/html": [
       "<div>\n",
       "<style scoped>\n",
       "    .dataframe tbody tr th:only-of-type {\n",
       "        vertical-align: middle;\n",
       "    }\n",
       "\n",
       "    .dataframe tbody tr th {\n",
       "        vertical-align: top;\n",
       "    }\n",
       "\n",
       "    .dataframe thead th {\n",
       "        text-align: right;\n",
       "    }\n",
       "</style>\n",
       "<table border=\"1\" class=\"dataframe\">\n",
       "  <thead>\n",
       "    <tr style=\"text-align: right;\">\n",
       "      <th></th>\n",
       "      <th>created_at</th>\n",
       "      <th>status</th>\n",
       "      <th>guarant_letter_uuid</th>\n",
       "      <th>comment_len</th>\n",
       "      <th>patient_id</th>\n",
       "      <th>doctor_len</th>\n",
       "      <th>diagnosis_len</th>\n",
       "      <th>diagnosis_clarification_len</th>\n",
       "      <th>standartized_diagnosis_len</th>\n",
       "      <th>diagnosis_uuid</th>\n",
       "      <th>...</th>\n",
       "      <th>folk_2_code</th>\n",
       "      <th>folk_3_code</th>\n",
       "      <th>folk_4_code</th>\n",
       "      <th>service_level_3_category_hash</th>\n",
       "      <th>service_level_2_category_hash</th>\n",
       "      <th>service_level</th>\n",
       "      <th>loss</th>\n",
       "      <th>per_month</th>\n",
       "      <th>per_week</th>\n",
       "      <th>target</th>\n",
       "    </tr>\n",
       "  </thead>\n",
       "  <tbody>\n",
       "    <tr>\n",
       "      <th>Кол-во нулевых значений</th>\n",
       "      <td>0.0</td>\n",
       "      <td>0.0</td>\n",
       "      <td>0.0</td>\n",
       "      <td>2859.000</td>\n",
       "      <td>0.0</td>\n",
       "      <td>35597.000</td>\n",
       "      <td>48397.000</td>\n",
       "      <td>40774.000</td>\n",
       "      <td>0.0</td>\n",
       "      <td>0.0</td>\n",
       "      <td>...</td>\n",
       "      <td>0.0</td>\n",
       "      <td>0.0</td>\n",
       "      <td>0.0</td>\n",
       "      <td>0.0</td>\n",
       "      <td>0.0</td>\n",
       "      <td>0.0</td>\n",
       "      <td>0.0</td>\n",
       "      <td>0.0</td>\n",
       "      <td>0.0</td>\n",
       "      <td>0.0</td>\n",
       "    </tr>\n",
       "    <tr>\n",
       "      <th>Доля нулевых значений % от общего кол-ва</th>\n",
       "      <td>0.0</td>\n",
       "      <td>0.0</td>\n",
       "      <td>0.0</td>\n",
       "      <td>5.718</td>\n",
       "      <td>0.0</td>\n",
       "      <td>71.194</td>\n",
       "      <td>96.794</td>\n",
       "      <td>81.548</td>\n",
       "      <td>0.0</td>\n",
       "      <td>0.0</td>\n",
       "      <td>...</td>\n",
       "      <td>0.0</td>\n",
       "      <td>0.0</td>\n",
       "      <td>0.0</td>\n",
       "      <td>0.0</td>\n",
       "      <td>0.0</td>\n",
       "      <td>0.0</td>\n",
       "      <td>0.0</td>\n",
       "      <td>0.0</td>\n",
       "      <td>0.0</td>\n",
       "      <td>0.0</td>\n",
       "    </tr>\n",
       "  </tbody>\n",
       "</table>\n",
       "<p>2 rows × 26 columns</p>\n",
       "</div>"
      ],
      "text/plain": [
       "                                          created_at  status  \\\n",
       "Кол-во нулевых значений                          0.0     0.0   \n",
       "Доля нулевых значений % от общего кол-ва         0.0     0.0   \n",
       "\n",
       "                                          guarant_letter_uuid  comment_len  \\\n",
       "Кол-во нулевых значений                                   0.0     2859.000   \n",
       "Доля нулевых значений % от общего кол-ва                  0.0        5.718   \n",
       "\n",
       "                                          patient_id  doctor_len  \\\n",
       "Кол-во нулевых значений                          0.0   35597.000   \n",
       "Доля нулевых значений % от общего кол-ва         0.0      71.194   \n",
       "\n",
       "                                          diagnosis_len  \\\n",
       "Кол-во нулевых значений                       48397.000   \n",
       "Доля нулевых значений % от общего кол-ва         96.794   \n",
       "\n",
       "                                          diagnosis_clarification_len  \\\n",
       "Кол-во нулевых значений                                     40774.000   \n",
       "Доля нулевых значений % от общего кол-ва                       81.548   \n",
       "\n",
       "                                          standartized_diagnosis_len  \\\n",
       "Кол-во нулевых значений                                          0.0   \n",
       "Доля нулевых значений % от общего кол-ва                         0.0   \n",
       "\n",
       "                                          diagnosis_uuid  ...  folk_2_code  \\\n",
       "Кол-во нулевых значений                              0.0  ...          0.0   \n",
       "Доля нулевых значений % от общего кол-ва             0.0  ...          0.0   \n",
       "\n",
       "                                          folk_3_code  folk_4_code  \\\n",
       "Кол-во нулевых значений                           0.0          0.0   \n",
       "Доля нулевых значений % от общего кол-ва          0.0          0.0   \n",
       "\n",
       "                                          service_level_3_category_hash  \\\n",
       "Кол-во нулевых значений                                             0.0   \n",
       "Доля нулевых значений % от общего кол-ва                            0.0   \n",
       "\n",
       "                                          service_level_2_category_hash  \\\n",
       "Кол-во нулевых значений                                             0.0   \n",
       "Доля нулевых значений % от общего кол-ва                            0.0   \n",
       "\n",
       "                                          service_level  loss  per_month  \\\n",
       "Кол-во нулевых значений                             0.0   0.0        0.0   \n",
       "Доля нулевых значений % от общего кол-ва            0.0   0.0        0.0   \n",
       "\n",
       "                                          per_week  target  \n",
       "Кол-во нулевых значений                        0.0     0.0  \n",
       "Доля нулевых значений % от общего кол-ва       0.0     0.0  \n",
       "\n",
       "[2 rows x 26 columns]"
      ]
     },
     "execution_count": 1323,
     "metadata": {},
     "output_type": "execute_result"
    }
   ],
   "source": [
    "pd.DataFrame(data=[null] + [null_per], \n",
    "                      columns=result.columns,\n",
    "                     index=['Кол-во нулевых значений', 'Доля нулевых значений % от общего кол-ва'])"
   ]
  },
  {
   "cell_type": "markdown",
   "metadata": {},
   "source": [
    "Много нулевых значений замечано у признаков doctor_len, diagnosis_clarification_len, service_status. Для service_status это нормально, так как там 0 - это одобрение. Длина тоже может быть нулевой"
   ]
  },
  {
   "cell_type": "code",
   "execution_count": 1324,
   "metadata": {},
   "outputs": [],
   "source": [
    "empty = []\n",
    "empty_per = []\n",
    "j = 0\n",
    "for i in result.columns:\n",
    "    empty.append(result[i].isna().sum())\n",
    "    empty_per.append(100 * empty[j] / result[i].shape[0])\n",
    "    j += 1"
   ]
  },
  {
   "cell_type": "code",
   "execution_count": 1328,
   "metadata": {},
   "outputs": [
    {
     "data": {
      "text/html": [
       "<div>\n",
       "<style scoped>\n",
       "    .dataframe tbody tr th:only-of-type {\n",
       "        vertical-align: middle;\n",
       "    }\n",
       "\n",
       "    .dataframe tbody tr th {\n",
       "        vertical-align: top;\n",
       "    }\n",
       "\n",
       "    .dataframe thead th {\n",
       "        text-align: right;\n",
       "    }\n",
       "</style>\n",
       "<table border=\"1\" class=\"dataframe\">\n",
       "  <thead>\n",
       "    <tr style=\"text-align: right;\">\n",
       "      <th></th>\n",
       "      <th>created_at</th>\n",
       "      <th>status</th>\n",
       "      <th>guarant_letter_uuid</th>\n",
       "      <th>comment_len</th>\n",
       "      <th>patient_id</th>\n",
       "      <th>doctor_len</th>\n",
       "      <th>diagnosis_len</th>\n",
       "      <th>diagnosis_clarification_len</th>\n",
       "      <th>standartized_diagnosis_len</th>\n",
       "      <th>diagnosis_uuid</th>\n",
       "      <th>...</th>\n",
       "      <th>folk_2_code</th>\n",
       "      <th>folk_3_code</th>\n",
       "      <th>folk_4_code</th>\n",
       "      <th>service_level_3_category_hash</th>\n",
       "      <th>service_level_2_category_hash</th>\n",
       "      <th>service_level</th>\n",
       "      <th>loss</th>\n",
       "      <th>per_month</th>\n",
       "      <th>per_week</th>\n",
       "      <th>target</th>\n",
       "    </tr>\n",
       "  </thead>\n",
       "  <tbody>\n",
       "    <tr>\n",
       "      <th>Кол-во пустых значений</th>\n",
       "      <td>0.0</td>\n",
       "      <td>0.0</td>\n",
       "      <td>0.0</td>\n",
       "      <td>0.0</td>\n",
       "      <td>0.0</td>\n",
       "      <td>0.0</td>\n",
       "      <td>0.0</td>\n",
       "      <td>0.0</td>\n",
       "      <td>1411.000</td>\n",
       "      <td>1411.000</td>\n",
       "      <td>...</td>\n",
       "      <td>527.000</td>\n",
       "      <td>2110.00</td>\n",
       "      <td>31873.000</td>\n",
       "      <td>762.000</td>\n",
       "      <td>762.000</td>\n",
       "      <td>0.0</td>\n",
       "      <td>0.0</td>\n",
       "      <td>0.0</td>\n",
       "      <td>0.0</td>\n",
       "      <td>0.0</td>\n",
       "    </tr>\n",
       "    <tr>\n",
       "      <th>Доля пустых значений % от общего кол-ва</th>\n",
       "      <td>0.0</td>\n",
       "      <td>0.0</td>\n",
       "      <td>0.0</td>\n",
       "      <td>0.0</td>\n",
       "      <td>0.0</td>\n",
       "      <td>0.0</td>\n",
       "      <td>0.0</td>\n",
       "      <td>0.0</td>\n",
       "      <td>2.822</td>\n",
       "      <td>2.822</td>\n",
       "      <td>...</td>\n",
       "      <td>1.054</td>\n",
       "      <td>4.22</td>\n",
       "      <td>63.746</td>\n",
       "      <td>1.524</td>\n",
       "      <td>1.524</td>\n",
       "      <td>0.0</td>\n",
       "      <td>0.0</td>\n",
       "      <td>0.0</td>\n",
       "      <td>0.0</td>\n",
       "      <td>0.0</td>\n",
       "    </tr>\n",
       "  </tbody>\n",
       "</table>\n",
       "<p>2 rows × 26 columns</p>\n",
       "</div>"
      ],
      "text/plain": [
       "                                         created_at  status  \\\n",
       "Кол-во пустых значений                          0.0     0.0   \n",
       "Доля пустых значений % от общего кол-ва         0.0     0.0   \n",
       "\n",
       "                                         guarant_letter_uuid  comment_len  \\\n",
       "Кол-во пустых значений                                   0.0          0.0   \n",
       "Доля пустых значений % от общего кол-ва                  0.0          0.0   \n",
       "\n",
       "                                         patient_id  doctor_len  \\\n",
       "Кол-во пустых значений                          0.0         0.0   \n",
       "Доля пустых значений % от общего кол-ва         0.0         0.0   \n",
       "\n",
       "                                         diagnosis_len  \\\n",
       "Кол-во пустых значений                             0.0   \n",
       "Доля пустых значений % от общего кол-ва            0.0   \n",
       "\n",
       "                                         diagnosis_clarification_len  \\\n",
       "Кол-во пустых значений                                           0.0   \n",
       "Доля пустых значений % от общего кол-ва                          0.0   \n",
       "\n",
       "                                         standartized_diagnosis_len  \\\n",
       "Кол-во пустых значений                                     1411.000   \n",
       "Доля пустых значений % от общего кол-ва                       2.822   \n",
       "\n",
       "                                         diagnosis_uuid  ...  folk_2_code  \\\n",
       "Кол-во пустых значений                         1411.000  ...      527.000   \n",
       "Доля пустых значений % от общего кол-ва           2.822  ...        1.054   \n",
       "\n",
       "                                         folk_3_code  folk_4_code  \\\n",
       "Кол-во пустых значений                       2110.00    31873.000   \n",
       "Доля пустых значений % от общего кол-ва         4.22       63.746   \n",
       "\n",
       "                                         service_level_3_category_hash  \\\n",
       "Кол-во пустых значений                                         762.000   \n",
       "Доля пустых значений % от общего кол-ва                          1.524   \n",
       "\n",
       "                                         service_level_2_category_hash  \\\n",
       "Кол-во пустых значений                                         762.000   \n",
       "Доля пустых значений % от общего кол-ва                          1.524   \n",
       "\n",
       "                                         service_level  loss  per_month  \\\n",
       "Кол-во пустых значений                             0.0   0.0        0.0   \n",
       "Доля пустых значений % от общего кол-ва            0.0   0.0        0.0   \n",
       "\n",
       "                                         per_week  target  \n",
       "Кол-во пустых значений                        0.0     0.0  \n",
       "Доля пустых значений % от общего кол-ва       0.0     0.0  \n",
       "\n",
       "[2 rows x 26 columns]"
      ]
     },
     "execution_count": 1328,
     "metadata": {},
     "output_type": "execute_result"
    }
   ],
   "source": [
    "pd.DataFrame(data=[empty] + [empty_per], \n",
    "                      columns=result.columns,\n",
    "                     index=['Кол-во пустых значений', 'Доля пустых значений % от общего кол-ва'])"
   ]
  },
  {
   "cell_type": "markdown",
   "metadata": {},
   "source": [
    "У признака folk_4_code большое количество пропущенных значений. Удалим его\n",
    "В остальных пропусках для численных переменных поставим вместо пропусков среднее значение, для категориальных - часто встречающееся"
   ]
  },
  {
   "cell_type": "code",
   "execution_count": 1329,
   "metadata": {},
   "outputs": [],
   "source": [
    "result = result.drop(columns=['folk_4_code'])"
   ]
  },
  {
   "cell_type": "code",
   "execution_count": 1330,
   "metadata": {},
   "outputs": [
    {
     "name": "stdout",
     "output_type": "stream",
     "text": [
      "created_at 0\n",
      "status 0\n",
      "guarant_letter_uuid 0\n",
      "comment_len 0\n",
      "patient_id 0\n",
      "doctor_len 0\n",
      "diagnosis_len 0\n",
      "diagnosis_clarification_len 0\n",
      "standartized_diagnosis_len 1411\n",
      "diagnosis_uuid 1411\n",
      "diagnosis_category_level_3_hash 1411\n",
      "diagnosis_category_level_1_hash 1411\n",
      "service_status 0\n",
      "service_quantity 0\n",
      "service_code 762\n",
      "folk_1_code 196\n",
      "folk_2_code 527\n",
      "folk_3_code 2110\n",
      "service_level_3_category_hash 762\n",
      "service_level_2_category_hash 762\n",
      "service_level 0\n",
      "loss 0\n",
      "per_month 0\n",
      "per_week 0\n",
      "target 0\n"
     ]
    }
   ],
   "source": [
    "for i in result.columns:\n",
    "    print(i, result[i].isna().sum())"
   ]
  },
  {
   "cell_type": "code",
   "execution_count": 1335,
   "metadata": {},
   "outputs": [],
   "source": [
    "categorical = ['diagnosis_uuid', 'service_code', 'folk_1_code', 'folk_2_code', 'folk_3_code',\n",
    "              'service_level_3_category_hash', 'service_level_2_category_hash',\n",
    "              'diagnosis_category_level_3_hash', 'diagnosis_category_level_1_hash']\n",
    "numeric = ['standartized_diagnosis_len']"
   ]
  },
  {
   "cell_type": "code",
   "execution_count": 1336,
   "metadata": {},
   "outputs": [],
   "source": [
    "mode_r = []\n",
    "for i in categorical:\n",
    "    mode_r.append(result[i].mode()[0])"
   ]
  },
  {
   "cell_type": "code",
   "execution_count": 1337,
   "metadata": {},
   "outputs": [
    {
     "data": {
      "text/html": [
       "<div>\n",
       "<style scoped>\n",
       "    .dataframe tbody tr th:only-of-type {\n",
       "        vertical-align: middle;\n",
       "    }\n",
       "\n",
       "    .dataframe tbody tr th {\n",
       "        vertical-align: top;\n",
       "    }\n",
       "\n",
       "    .dataframe thead th {\n",
       "        text-align: right;\n",
       "    }\n",
       "</style>\n",
       "<table border=\"1\" class=\"dataframe\">\n",
       "  <thead>\n",
       "    <tr style=\"text-align: right;\">\n",
       "      <th></th>\n",
       "      <th>diagnosis_uuid</th>\n",
       "      <th>service_code</th>\n",
       "      <th>folk_1_code</th>\n",
       "      <th>folk_2_code</th>\n",
       "      <th>folk_3_code</th>\n",
       "      <th>service_level_3_category_hash</th>\n",
       "      <th>service_level_2_category_hash</th>\n",
       "      <th>diagnosis_category_level_3_hash</th>\n",
       "      <th>diagnosis_category_level_1_hash</th>\n",
       "    </tr>\n",
       "  </thead>\n",
       "  <tbody>\n",
       "    <tr>\n",
       "      <th>Мода</th>\n",
       "      <td>0722beb1-f1a9-4776-80d2-b94b96a143c4</td>\n",
       "      <td>82c66a68ed841e90e3f3ba52bbe6d08b</td>\n",
       "      <td>883df3cf6bc90d69afb61c2fe31be838</td>\n",
       "      <td>c951270e425b15fc20c64da4341c1d89</td>\n",
       "      <td>63a9f0ea7bb98050796b649e85481845</td>\n",
       "      <td>c951270e425b15fc20c64da4341c1d89</td>\n",
       "      <td>883df3cf6bc90d69afb61c2fe31be838</td>\n",
       "      <td>d11305db9650c256415e01d62061090a</td>\n",
       "      <td>8d9c307cb7f3c4a32822a51922d1ceaa</td>\n",
       "    </tr>\n",
       "  </tbody>\n",
       "</table>\n",
       "</div>"
      ],
      "text/plain": [
       "                            diagnosis_uuid                      service_code  \\\n",
       "Мода  0722beb1-f1a9-4776-80d2-b94b96a143c4  82c66a68ed841e90e3f3ba52bbe6d08b   \n",
       "\n",
       "                           folk_1_code                       folk_2_code  \\\n",
       "Мода  883df3cf6bc90d69afb61c2fe31be838  c951270e425b15fc20c64da4341c1d89   \n",
       "\n",
       "                           folk_3_code     service_level_3_category_hash  \\\n",
       "Мода  63a9f0ea7bb98050796b649e85481845  c951270e425b15fc20c64da4341c1d89   \n",
       "\n",
       "         service_level_2_category_hash   diagnosis_category_level_3_hash  \\\n",
       "Мода  883df3cf6bc90d69afb61c2fe31be838  d11305db9650c256415e01d62061090a   \n",
       "\n",
       "       diagnosis_category_level_1_hash  \n",
       "Мода  8d9c307cb7f3c4a32822a51922d1ceaa  "
      ]
     },
     "execution_count": 1337,
     "metadata": {},
     "output_type": "execute_result"
    }
   ],
   "source": [
    "pd.DataFrame(data=[mode_r], \n",
    "                      columns=categorical,\n",
    "                     index=['Мода'])"
   ]
  },
  {
   "cell_type": "code",
   "execution_count": 1338,
   "metadata": {},
   "outputs": [],
   "source": [
    "result['diagnosis_uuid'] = result['diagnosis_uuid'].fillna('0722beb1-f1a9-4776-80d2-b94b96a143c4')\n",
    "result['service_code'] = result['service_code'].fillna('82c66a68ed841e90e3f3ba52bbe6d08b')\n",
    "result['folk_1_code'] = result['folk_1_code'].fillna('883df3cf6bc90d69afb61c2fe31be838')\n",
    "result['folk_2_code'] = result['folk_2_code'].fillna('c951270e425b15fc20c64da4341c1d89')\n",
    "result['folk_3_code'] = result['folk_3_code'].fillna('63a9f0ea7bb98050796b649e85481845')\n",
    "result['service_level_3_category_hash'] = result['service_level_3_category_hash'].fillna('c951270e425b15fc20c64da4341c1d89')\n",
    "result['service_level_2_category_hash'] = result['service_level_2_category_hash'].fillna('883df3cf6bc90d69afb61c2fe31be838')\n",
    "result['diagnosis_category_level_3_hash'] = result['diagnosis_category_level_3_hash'].fillna('d11305db9650c256415e01d62061090a')\n",
    "result['diagnosis_category_level_1_hash'] = result['diagnosis_category_level_1_hash'].fillna('8d9c307cb7f3c4a32822a51922d1ceaa')"
   ]
  },
  {
   "cell_type": "code",
   "execution_count": 1339,
   "metadata": {},
   "outputs": [],
   "source": [
    "for i in numeric:\n",
    "    result.loc[result[i].isna(), i] = result[i].mean()"
   ]
  },
  {
   "cell_type": "code",
   "execution_count": 1621,
   "metadata": {},
   "outputs": [],
   "source": [
    "result['count'] = result.groupby('guarant_letter_uuid')['guarant_letter_uuid'].transform('count')"
   ]
  },
  {
   "cell_type": "markdown",
   "metadata": {},
   "source": [
    "Посмотрим на корреляцию признаков"
   ]
  },
  {
   "cell_type": "code",
   "execution_count": 1367,
   "metadata": {},
   "outputs": [
    {
     "data": {
      "text/html": [
       "<div>\n",
       "<style scoped>\n",
       "    .dataframe tbody tr th:only-of-type {\n",
       "        vertical-align: middle;\n",
       "    }\n",
       "\n",
       "    .dataframe tbody tr th {\n",
       "        vertical-align: top;\n",
       "    }\n",
       "\n",
       "    .dataframe thead th {\n",
       "        text-align: right;\n",
       "    }\n",
       "</style>\n",
       "<table border=\"1\" class=\"dataframe\">\n",
       "  <thead>\n",
       "    <tr style=\"text-align: right;\">\n",
       "      <th></th>\n",
       "      <th>status</th>\n",
       "      <th>guarant_letter_uuid</th>\n",
       "      <th>comment_len</th>\n",
       "      <th>patient_id</th>\n",
       "      <th>doctor_len</th>\n",
       "      <th>diagnosis_len</th>\n",
       "      <th>diagnosis_clarification_len</th>\n",
       "      <th>standartized_diagnosis_len</th>\n",
       "      <th>diagnosis_uuid</th>\n",
       "      <th>diagnosis_category_level_3_hash</th>\n",
       "      <th>...</th>\n",
       "      <th>folk_2_code</th>\n",
       "      <th>folk_3_code</th>\n",
       "      <th>service_level_3_category_hash</th>\n",
       "      <th>service_level_2_category_hash</th>\n",
       "      <th>service_level</th>\n",
       "      <th>loss</th>\n",
       "      <th>per_month</th>\n",
       "      <th>per_week</th>\n",
       "      <th>target</th>\n",
       "      <th>count</th>\n",
       "    </tr>\n",
       "  </thead>\n",
       "  <tbody>\n",
       "    <tr>\n",
       "      <th>status</th>\n",
       "      <td>1.000000</td>\n",
       "      <td>0.005483</td>\n",
       "      <td>0.081313</td>\n",
       "      <td>-0.001503</td>\n",
       "      <td>0.008017</td>\n",
       "      <td>-0.013920</td>\n",
       "      <td>-0.001007</td>\n",
       "      <td>0.004155</td>\n",
       "      <td>0.012833</td>\n",
       "      <td>-0.023306</td>\n",
       "      <td>...</td>\n",
       "      <td>-0.013917</td>\n",
       "      <td>-0.009064</td>\n",
       "      <td>-0.014759</td>\n",
       "      <td>-0.004434</td>\n",
       "      <td>0.011610</td>\n",
       "      <td>-0.035949</td>\n",
       "      <td>0.012364</td>\n",
       "      <td>0.006180</td>\n",
       "      <td>-0.018393</td>\n",
       "      <td>-0.035668</td>\n",
       "    </tr>\n",
       "    <tr>\n",
       "      <th>guarant_letter_uuid</th>\n",
       "      <td>0.005483</td>\n",
       "      <td>1.000000</td>\n",
       "      <td>-0.008888</td>\n",
       "      <td>0.000462</td>\n",
       "      <td>0.003169</td>\n",
       "      <td>-0.012646</td>\n",
       "      <td>0.016833</td>\n",
       "      <td>0.011919</td>\n",
       "      <td>0.016870</td>\n",
       "      <td>-0.018424</td>\n",
       "      <td>...</td>\n",
       "      <td>-0.000097</td>\n",
       "      <td>0.002782</td>\n",
       "      <td>0.007902</td>\n",
       "      <td>-0.007290</td>\n",
       "      <td>0.001806</td>\n",
       "      <td>0.002405</td>\n",
       "      <td>0.008961</td>\n",
       "      <td>0.009517</td>\n",
       "      <td>0.006272</td>\n",
       "      <td>0.007622</td>\n",
       "    </tr>\n",
       "    <tr>\n",
       "      <th>comment_len</th>\n",
       "      <td>0.081313</td>\n",
       "      <td>-0.008888</td>\n",
       "      <td>1.000000</td>\n",
       "      <td>0.028493</td>\n",
       "      <td>0.026196</td>\n",
       "      <td>0.009665</td>\n",
       "      <td>0.051139</td>\n",
       "      <td>0.046789</td>\n",
       "      <td>-0.045750</td>\n",
       "      <td>-0.071517</td>\n",
       "      <td>...</td>\n",
       "      <td>0.072903</td>\n",
       "      <td>0.088805</td>\n",
       "      <td>0.131048</td>\n",
       "      <td>0.010226</td>\n",
       "      <td>-0.076072</td>\n",
       "      <td>0.033855</td>\n",
       "      <td>-0.042018</td>\n",
       "      <td>-0.065541</td>\n",
       "      <td>-0.003479</td>\n",
       "      <td>0.398127</td>\n",
       "    </tr>\n",
       "    <tr>\n",
       "      <th>patient_id</th>\n",
       "      <td>-0.001503</td>\n",
       "      <td>0.000462</td>\n",
       "      <td>0.028493</td>\n",
       "      <td>1.000000</td>\n",
       "      <td>-0.008634</td>\n",
       "      <td>-0.022938</td>\n",
       "      <td>-0.001054</td>\n",
       "      <td>-0.011782</td>\n",
       "      <td>0.002519</td>\n",
       "      <td>-0.040115</td>\n",
       "      <td>...</td>\n",
       "      <td>0.024671</td>\n",
       "      <td>0.012831</td>\n",
       "      <td>0.021806</td>\n",
       "      <td>0.002926</td>\n",
       "      <td>-0.009454</td>\n",
       "      <td>-0.041616</td>\n",
       "      <td>-0.010566</td>\n",
       "      <td>-0.013845</td>\n",
       "      <td>-0.049756</td>\n",
       "      <td>0.064476</td>\n",
       "    </tr>\n",
       "    <tr>\n",
       "      <th>doctor_len</th>\n",
       "      <td>0.008017</td>\n",
       "      <td>0.003169</td>\n",
       "      <td>0.026196</td>\n",
       "      <td>-0.008634</td>\n",
       "      <td>1.000000</td>\n",
       "      <td>-0.067000</td>\n",
       "      <td>0.235750</td>\n",
       "      <td>-0.002966</td>\n",
       "      <td>0.043508</td>\n",
       "      <td>-0.028262</td>\n",
       "      <td>...</td>\n",
       "      <td>0.017440</td>\n",
       "      <td>0.005075</td>\n",
       "      <td>0.015109</td>\n",
       "      <td>0.011587</td>\n",
       "      <td>0.025835</td>\n",
       "      <td>0.035753</td>\n",
       "      <td>-0.008644</td>\n",
       "      <td>-0.011516</td>\n",
       "      <td>0.025657</td>\n",
       "      <td>0.010232</td>\n",
       "    </tr>\n",
       "    <tr>\n",
       "      <th>diagnosis_len</th>\n",
       "      <td>-0.013920</td>\n",
       "      <td>-0.012646</td>\n",
       "      <td>0.009665</td>\n",
       "      <td>-0.022938</td>\n",
       "      <td>-0.067000</td>\n",
       "      <td>1.000000</td>\n",
       "      <td>-0.042878</td>\n",
       "      <td>0.010645</td>\n",
       "      <td>-0.156554</td>\n",
       "      <td>0.121762</td>\n",
       "      <td>...</td>\n",
       "      <td>-0.046146</td>\n",
       "      <td>0.002419</td>\n",
       "      <td>-0.028898</td>\n",
       "      <td>0.012041</td>\n",
       "      <td>-0.122322</td>\n",
       "      <td>0.038071</td>\n",
       "      <td>-0.010575</td>\n",
       "      <td>-0.007534</td>\n",
       "      <td>0.018654</td>\n",
       "      <td>-0.086236</td>\n",
       "    </tr>\n",
       "    <tr>\n",
       "      <th>diagnosis_clarification_len</th>\n",
       "      <td>-0.001007</td>\n",
       "      <td>0.016833</td>\n",
       "      <td>0.051139</td>\n",
       "      <td>-0.001054</td>\n",
       "      <td>0.235750</td>\n",
       "      <td>-0.042878</td>\n",
       "      <td>1.000000</td>\n",
       "      <td>0.020126</td>\n",
       "      <td>0.044914</td>\n",
       "      <td>-0.000872</td>\n",
       "      <td>...</td>\n",
       "      <td>0.023952</td>\n",
       "      <td>-0.035728</td>\n",
       "      <td>-0.004200</td>\n",
       "      <td>0.016199</td>\n",
       "      <td>0.010574</td>\n",
       "      <td>0.091004</td>\n",
       "      <td>0.011509</td>\n",
       "      <td>0.007323</td>\n",
       "      <td>0.048711</td>\n",
       "      <td>0.113242</td>\n",
       "    </tr>\n",
       "    <tr>\n",
       "      <th>standartized_diagnosis_len</th>\n",
       "      <td>0.004155</td>\n",
       "      <td>0.011919</td>\n",
       "      <td>0.046789</td>\n",
       "      <td>-0.011782</td>\n",
       "      <td>-0.002966</td>\n",
       "      <td>0.010645</td>\n",
       "      <td>0.020126</td>\n",
       "      <td>1.000000</td>\n",
       "      <td>-0.072793</td>\n",
       "      <td>0.056895</td>\n",
       "      <td>...</td>\n",
       "      <td>0.047241</td>\n",
       "      <td>0.051902</td>\n",
       "      <td>0.062933</td>\n",
       "      <td>0.026363</td>\n",
       "      <td>-0.047629</td>\n",
       "      <td>-0.013945</td>\n",
       "      <td>-0.021046</td>\n",
       "      <td>-0.007750</td>\n",
       "      <td>-0.020033</td>\n",
       "      <td>0.046754</td>\n",
       "    </tr>\n",
       "    <tr>\n",
       "      <th>diagnosis_uuid</th>\n",
       "      <td>0.012833</td>\n",
       "      <td>0.016870</td>\n",
       "      <td>-0.045750</td>\n",
       "      <td>0.002519</td>\n",
       "      <td>0.043508</td>\n",
       "      <td>-0.156554</td>\n",
       "      <td>0.044914</td>\n",
       "      <td>-0.072793</td>\n",
       "      <td>1.000000</td>\n",
       "      <td>-0.080328</td>\n",
       "      <td>...</td>\n",
       "      <td>0.001231</td>\n",
       "      <td>-0.099127</td>\n",
       "      <td>-0.056250</td>\n",
       "      <td>-0.007106</td>\n",
       "      <td>0.061310</td>\n",
       "      <td>-0.039946</td>\n",
       "      <td>0.031114</td>\n",
       "      <td>0.033914</td>\n",
       "      <td>-0.004181</td>\n",
       "      <td>-0.034344</td>\n",
       "    </tr>\n",
       "    <tr>\n",
       "      <th>diagnosis_category_level_3_hash</th>\n",
       "      <td>-0.023306</td>\n",
       "      <td>-0.018424</td>\n",
       "      <td>-0.071517</td>\n",
       "      <td>-0.040115</td>\n",
       "      <td>-0.028262</td>\n",
       "      <td>0.121762</td>\n",
       "      <td>-0.000872</td>\n",
       "      <td>0.056895</td>\n",
       "      <td>-0.080328</td>\n",
       "      <td>1.000000</td>\n",
       "      <td>...</td>\n",
       "      <td>-0.029006</td>\n",
       "      <td>-0.043066</td>\n",
       "      <td>-0.046096</td>\n",
       "      <td>0.078264</td>\n",
       "      <td>0.027144</td>\n",
       "      <td>0.003264</td>\n",
       "      <td>-0.015234</td>\n",
       "      <td>-0.000551</td>\n",
       "      <td>-0.004193</td>\n",
       "      <td>-0.136260</td>\n",
       "    </tr>\n",
       "    <tr>\n",
       "      <th>diagnosis_category_level_1_hash</th>\n",
       "      <td>0.005743</td>\n",
       "      <td>-0.022039</td>\n",
       "      <td>0.014846</td>\n",
       "      <td>-0.008214</td>\n",
       "      <td>-0.006171</td>\n",
       "      <td>-0.029269</td>\n",
       "      <td>-0.014546</td>\n",
       "      <td>0.136497</td>\n",
       "      <td>-0.117951</td>\n",
       "      <td>0.140809</td>\n",
       "      <td>...</td>\n",
       "      <td>0.006293</td>\n",
       "      <td>0.178735</td>\n",
       "      <td>0.132279</td>\n",
       "      <td>0.047125</td>\n",
       "      <td>-0.004546</td>\n",
       "      <td>-0.043124</td>\n",
       "      <td>-0.028579</td>\n",
       "      <td>-0.019067</td>\n",
       "      <td>-0.053550</td>\n",
       "      <td>-0.035358</td>\n",
       "    </tr>\n",
       "    <tr>\n",
       "      <th>service_status</th>\n",
       "      <td>-0.006189</td>\n",
       "      <td>0.004997</td>\n",
       "      <td>-0.001213</td>\n",
       "      <td>0.021812</td>\n",
       "      <td>-0.001852</td>\n",
       "      <td>-0.039825</td>\n",
       "      <td>0.017245</td>\n",
       "      <td>0.005018</td>\n",
       "      <td>0.006921</td>\n",
       "      <td>-0.041936</td>\n",
       "      <td>...</td>\n",
       "      <td>0.054935</td>\n",
       "      <td>0.107096</td>\n",
       "      <td>0.144865</td>\n",
       "      <td>0.002248</td>\n",
       "      <td>-0.031075</td>\n",
       "      <td>-0.027265</td>\n",
       "      <td>-0.017851</td>\n",
       "      <td>-0.015854</td>\n",
       "      <td>-0.025279</td>\n",
       "      <td>0.255996</td>\n",
       "    </tr>\n",
       "    <tr>\n",
       "      <th>service_quantity</th>\n",
       "      <td>0.013352</td>\n",
       "      <td>0.007992</td>\n",
       "      <td>-0.116668</td>\n",
       "      <td>-0.027566</td>\n",
       "      <td>-0.004404</td>\n",
       "      <td>-0.028180</td>\n",
       "      <td>0.022334</td>\n",
       "      <td>-0.070396</td>\n",
       "      <td>0.079208</td>\n",
       "      <td>0.058899</td>\n",
       "      <td>...</td>\n",
       "      <td>-0.200819</td>\n",
       "      <td>-0.396403</td>\n",
       "      <td>-0.303134</td>\n",
       "      <td>-0.052762</td>\n",
       "      <td>0.142955</td>\n",
       "      <td>-0.002401</td>\n",
       "      <td>0.069842</td>\n",
       "      <td>0.074856</td>\n",
       "      <td>0.043967</td>\n",
       "      <td>-0.165165</td>\n",
       "    </tr>\n",
       "    <tr>\n",
       "      <th>service_code</th>\n",
       "      <td>0.003063</td>\n",
       "      <td>0.000290</td>\n",
       "      <td>-0.012469</td>\n",
       "      <td>0.004989</td>\n",
       "      <td>0.001728</td>\n",
       "      <td>0.012605</td>\n",
       "      <td>0.007200</td>\n",
       "      <td>0.002312</td>\n",
       "      <td>-0.003449</td>\n",
       "      <td>0.016342</td>\n",
       "      <td>...</td>\n",
       "      <td>-0.022169</td>\n",
       "      <td>0.093388</td>\n",
       "      <td>-0.009891</td>\n",
       "      <td>0.168918</td>\n",
       "      <td>0.027679</td>\n",
       "      <td>0.006017</td>\n",
       "      <td>0.002895</td>\n",
       "      <td>0.000760</td>\n",
       "      <td>0.003230</td>\n",
       "      <td>0.000333</td>\n",
       "    </tr>\n",
       "    <tr>\n",
       "      <th>folk_1_code</th>\n",
       "      <td>0.001256</td>\n",
       "      <td>0.001536</td>\n",
       "      <td>-0.003585</td>\n",
       "      <td>-0.017542</td>\n",
       "      <td>0.012077</td>\n",
       "      <td>-0.009962</td>\n",
       "      <td>0.007468</td>\n",
       "      <td>0.010218</td>\n",
       "      <td>0.007568</td>\n",
       "      <td>0.032534</td>\n",
       "      <td>...</td>\n",
       "      <td>-0.038087</td>\n",
       "      <td>-0.117447</td>\n",
       "      <td>0.299474</td>\n",
       "      <td>0.418653</td>\n",
       "      <td>0.005549</td>\n",
       "      <td>-0.022628</td>\n",
       "      <td>0.001446</td>\n",
       "      <td>0.005643</td>\n",
       "      <td>-0.011070</td>\n",
       "      <td>0.021175</td>\n",
       "    </tr>\n",
       "    <tr>\n",
       "      <th>folk_2_code</th>\n",
       "      <td>-0.013917</td>\n",
       "      <td>-0.000097</td>\n",
       "      <td>0.072903</td>\n",
       "      <td>0.024671</td>\n",
       "      <td>0.017440</td>\n",
       "      <td>-0.046146</td>\n",
       "      <td>0.023952</td>\n",
       "      <td>0.047241</td>\n",
       "      <td>0.001231</td>\n",
       "      <td>-0.029006</td>\n",
       "      <td>...</td>\n",
       "      <td>1.000000</td>\n",
       "      <td>-0.082910</td>\n",
       "      <td>0.395095</td>\n",
       "      <td>0.466460</td>\n",
       "      <td>-0.457841</td>\n",
       "      <td>-0.011198</td>\n",
       "      <td>-0.034597</td>\n",
       "      <td>-0.045373</td>\n",
       "      <td>-0.034692</td>\n",
       "      <td>0.221055</td>\n",
       "    </tr>\n",
       "    <tr>\n",
       "      <th>folk_3_code</th>\n",
       "      <td>-0.009064</td>\n",
       "      <td>0.002782</td>\n",
       "      <td>0.088805</td>\n",
       "      <td>0.012831</td>\n",
       "      <td>0.005075</td>\n",
       "      <td>0.002419</td>\n",
       "      <td>-0.035728</td>\n",
       "      <td>0.051902</td>\n",
       "      <td>-0.099127</td>\n",
       "      <td>-0.043066</td>\n",
       "      <td>...</td>\n",
       "      <td>-0.082910</td>\n",
       "      <td>1.000000</td>\n",
       "      <td>0.355653</td>\n",
       "      <td>0.051601</td>\n",
       "      <td>0.113018</td>\n",
       "      <td>0.031949</td>\n",
       "      <td>-0.073018</td>\n",
       "      <td>-0.079038</td>\n",
       "      <td>-0.025173</td>\n",
       "      <td>0.067415</td>\n",
       "    </tr>\n",
       "    <tr>\n",
       "      <th>service_level_3_category_hash</th>\n",
       "      <td>-0.014759</td>\n",
       "      <td>0.007902</td>\n",
       "      <td>0.131048</td>\n",
       "      <td>0.021806</td>\n",
       "      <td>0.015109</td>\n",
       "      <td>-0.028898</td>\n",
       "      <td>-0.004200</td>\n",
       "      <td>0.062933</td>\n",
       "      <td>-0.056250</td>\n",
       "      <td>-0.046096</td>\n",
       "      <td>...</td>\n",
       "      <td>0.395095</td>\n",
       "      <td>0.355653</td>\n",
       "      <td>1.000000</td>\n",
       "      <td>0.184989</td>\n",
       "      <td>-0.124088</td>\n",
       "      <td>-0.028160</td>\n",
       "      <td>-0.061306</td>\n",
       "      <td>-0.065993</td>\n",
       "      <td>-0.060596</td>\n",
       "      <td>0.232583</td>\n",
       "    </tr>\n",
       "    <tr>\n",
       "      <th>service_level_2_category_hash</th>\n",
       "      <td>-0.004434</td>\n",
       "      <td>-0.007290</td>\n",
       "      <td>0.010226</td>\n",
       "      <td>0.002926</td>\n",
       "      <td>0.011587</td>\n",
       "      <td>0.012041</td>\n",
       "      <td>0.016199</td>\n",
       "      <td>0.026363</td>\n",
       "      <td>-0.007106</td>\n",
       "      <td>0.078264</td>\n",
       "      <td>...</td>\n",
       "      <td>0.466460</td>\n",
       "      <td>0.051601</td>\n",
       "      <td>0.184989</td>\n",
       "      <td>1.000000</td>\n",
       "      <td>-0.239484</td>\n",
       "      <td>-0.007889</td>\n",
       "      <td>-0.003513</td>\n",
       "      <td>-0.012899</td>\n",
       "      <td>-0.004284</td>\n",
       "      <td>0.065222</td>\n",
       "    </tr>\n",
       "    <tr>\n",
       "      <th>service_level</th>\n",
       "      <td>0.011610</td>\n",
       "      <td>0.001806</td>\n",
       "      <td>-0.076072</td>\n",
       "      <td>-0.009454</td>\n",
       "      <td>0.025835</td>\n",
       "      <td>-0.122322</td>\n",
       "      <td>0.010574</td>\n",
       "      <td>-0.047629</td>\n",
       "      <td>0.061310</td>\n",
       "      <td>0.027144</td>\n",
       "      <td>...</td>\n",
       "      <td>-0.457841</td>\n",
       "      <td>0.113018</td>\n",
       "      <td>-0.124088</td>\n",
       "      <td>-0.239484</td>\n",
       "      <td>1.000000</td>\n",
       "      <td>0.008059</td>\n",
       "      <td>0.035177</td>\n",
       "      <td>0.031944</td>\n",
       "      <td>0.028781</td>\n",
       "      <td>-0.157600</td>\n",
       "    </tr>\n",
       "    <tr>\n",
       "      <th>loss</th>\n",
       "      <td>-0.035949</td>\n",
       "      <td>0.002405</td>\n",
       "      <td>0.033855</td>\n",
       "      <td>-0.041616</td>\n",
       "      <td>0.035753</td>\n",
       "      <td>0.038071</td>\n",
       "      <td>0.091004</td>\n",
       "      <td>-0.013945</td>\n",
       "      <td>-0.039946</td>\n",
       "      <td>0.003264</td>\n",
       "      <td>...</td>\n",
       "      <td>-0.011198</td>\n",
       "      <td>0.031949</td>\n",
       "      <td>-0.028160</td>\n",
       "      <td>-0.007889</td>\n",
       "      <td>0.008059</td>\n",
       "      <td>1.000000</td>\n",
       "      <td>0.008503</td>\n",
       "      <td>0.002839</td>\n",
       "      <td>0.589893</td>\n",
       "      <td>0.023885</td>\n",
       "    </tr>\n",
       "    <tr>\n",
       "      <th>per_month</th>\n",
       "      <td>0.012364</td>\n",
       "      <td>0.008961</td>\n",
       "      <td>-0.042018</td>\n",
       "      <td>-0.010566</td>\n",
       "      <td>-0.008644</td>\n",
       "      <td>-0.010575</td>\n",
       "      <td>0.011509</td>\n",
       "      <td>-0.021046</td>\n",
       "      <td>0.031114</td>\n",
       "      <td>-0.015234</td>\n",
       "      <td>...</td>\n",
       "      <td>-0.034597</td>\n",
       "      <td>-0.073018</td>\n",
       "      <td>-0.061306</td>\n",
       "      <td>-0.003513</td>\n",
       "      <td>0.035177</td>\n",
       "      <td>0.008503</td>\n",
       "      <td>1.000000</td>\n",
       "      <td>0.840001</td>\n",
       "      <td>0.648064</td>\n",
       "      <td>-0.029638</td>\n",
       "    </tr>\n",
       "    <tr>\n",
       "      <th>per_week</th>\n",
       "      <td>0.006180</td>\n",
       "      <td>0.009517</td>\n",
       "      <td>-0.065541</td>\n",
       "      <td>-0.013845</td>\n",
       "      <td>-0.011516</td>\n",
       "      <td>-0.007534</td>\n",
       "      <td>0.007323</td>\n",
       "      <td>-0.007750</td>\n",
       "      <td>0.033914</td>\n",
       "      <td>-0.000551</td>\n",
       "      <td>...</td>\n",
       "      <td>-0.045373</td>\n",
       "      <td>-0.079038</td>\n",
       "      <td>-0.065993</td>\n",
       "      <td>-0.012899</td>\n",
       "      <td>0.031944</td>\n",
       "      <td>0.002839</td>\n",
       "      <td>0.840001</td>\n",
       "      <td>1.000000</td>\n",
       "      <td>0.540943</td>\n",
       "      <td>-0.050632</td>\n",
       "    </tr>\n",
       "    <tr>\n",
       "      <th>target</th>\n",
       "      <td>-0.018393</td>\n",
       "      <td>0.006272</td>\n",
       "      <td>-0.003479</td>\n",
       "      <td>-0.049756</td>\n",
       "      <td>0.025657</td>\n",
       "      <td>0.018654</td>\n",
       "      <td>0.048711</td>\n",
       "      <td>-0.020033</td>\n",
       "      <td>-0.004181</td>\n",
       "      <td>-0.004193</td>\n",
       "      <td>...</td>\n",
       "      <td>-0.034692</td>\n",
       "      <td>-0.025173</td>\n",
       "      <td>-0.060596</td>\n",
       "      <td>-0.004284</td>\n",
       "      <td>0.028781</td>\n",
       "      <td>0.589893</td>\n",
       "      <td>0.648064</td>\n",
       "      <td>0.540943</td>\n",
       "      <td>1.000000</td>\n",
       "      <td>0.002520</td>\n",
       "    </tr>\n",
       "    <tr>\n",
       "      <th>count</th>\n",
       "      <td>-0.035668</td>\n",
       "      <td>0.007622</td>\n",
       "      <td>0.398127</td>\n",
       "      <td>0.064476</td>\n",
       "      <td>0.010232</td>\n",
       "      <td>-0.086236</td>\n",
       "      <td>0.113242</td>\n",
       "      <td>0.046754</td>\n",
       "      <td>-0.034344</td>\n",
       "      <td>-0.136260</td>\n",
       "      <td>...</td>\n",
       "      <td>0.221055</td>\n",
       "      <td>0.067415</td>\n",
       "      <td>0.232583</td>\n",
       "      <td>0.065222</td>\n",
       "      <td>-0.157600</td>\n",
       "      <td>0.023885</td>\n",
       "      <td>-0.029638</td>\n",
       "      <td>-0.050632</td>\n",
       "      <td>0.002520</td>\n",
       "      <td>1.000000</td>\n",
       "    </tr>\n",
       "  </tbody>\n",
       "</table>\n",
       "<p>25 rows × 25 columns</p>\n",
       "</div>"
      ],
      "text/plain": [
       "                                   status  guarant_letter_uuid  comment_len  \\\n",
       "status                           1.000000             0.005483     0.081313   \n",
       "guarant_letter_uuid              0.005483             1.000000    -0.008888   \n",
       "comment_len                      0.081313            -0.008888     1.000000   \n",
       "patient_id                      -0.001503             0.000462     0.028493   \n",
       "doctor_len                       0.008017             0.003169     0.026196   \n",
       "diagnosis_len                   -0.013920            -0.012646     0.009665   \n",
       "diagnosis_clarification_len     -0.001007             0.016833     0.051139   \n",
       "standartized_diagnosis_len       0.004155             0.011919     0.046789   \n",
       "diagnosis_uuid                   0.012833             0.016870    -0.045750   \n",
       "diagnosis_category_level_3_hash -0.023306            -0.018424    -0.071517   \n",
       "diagnosis_category_level_1_hash  0.005743            -0.022039     0.014846   \n",
       "service_status                  -0.006189             0.004997    -0.001213   \n",
       "service_quantity                 0.013352             0.007992    -0.116668   \n",
       "service_code                     0.003063             0.000290    -0.012469   \n",
       "folk_1_code                      0.001256             0.001536    -0.003585   \n",
       "folk_2_code                     -0.013917            -0.000097     0.072903   \n",
       "folk_3_code                     -0.009064             0.002782     0.088805   \n",
       "service_level_3_category_hash   -0.014759             0.007902     0.131048   \n",
       "service_level_2_category_hash   -0.004434            -0.007290     0.010226   \n",
       "service_level                    0.011610             0.001806    -0.076072   \n",
       "loss                            -0.035949             0.002405     0.033855   \n",
       "per_month                        0.012364             0.008961    -0.042018   \n",
       "per_week                         0.006180             0.009517    -0.065541   \n",
       "target                          -0.018393             0.006272    -0.003479   \n",
       "count                           -0.035668             0.007622     0.398127   \n",
       "\n",
       "                                 patient_id  doctor_len  diagnosis_len  \\\n",
       "status                            -0.001503    0.008017      -0.013920   \n",
       "guarant_letter_uuid                0.000462    0.003169      -0.012646   \n",
       "comment_len                        0.028493    0.026196       0.009665   \n",
       "patient_id                         1.000000   -0.008634      -0.022938   \n",
       "doctor_len                        -0.008634    1.000000      -0.067000   \n",
       "diagnosis_len                     -0.022938   -0.067000       1.000000   \n",
       "diagnosis_clarification_len       -0.001054    0.235750      -0.042878   \n",
       "standartized_diagnosis_len        -0.011782   -0.002966       0.010645   \n",
       "diagnosis_uuid                     0.002519    0.043508      -0.156554   \n",
       "diagnosis_category_level_3_hash   -0.040115   -0.028262       0.121762   \n",
       "diagnosis_category_level_1_hash   -0.008214   -0.006171      -0.029269   \n",
       "service_status                     0.021812   -0.001852      -0.039825   \n",
       "service_quantity                  -0.027566   -0.004404      -0.028180   \n",
       "service_code                       0.004989    0.001728       0.012605   \n",
       "folk_1_code                       -0.017542    0.012077      -0.009962   \n",
       "folk_2_code                        0.024671    0.017440      -0.046146   \n",
       "folk_3_code                        0.012831    0.005075       0.002419   \n",
       "service_level_3_category_hash      0.021806    0.015109      -0.028898   \n",
       "service_level_2_category_hash      0.002926    0.011587       0.012041   \n",
       "service_level                     -0.009454    0.025835      -0.122322   \n",
       "loss                              -0.041616    0.035753       0.038071   \n",
       "per_month                         -0.010566   -0.008644      -0.010575   \n",
       "per_week                          -0.013845   -0.011516      -0.007534   \n",
       "target                            -0.049756    0.025657       0.018654   \n",
       "count                              0.064476    0.010232      -0.086236   \n",
       "\n",
       "                                 diagnosis_clarification_len  \\\n",
       "status                                             -0.001007   \n",
       "guarant_letter_uuid                                 0.016833   \n",
       "comment_len                                         0.051139   \n",
       "patient_id                                         -0.001054   \n",
       "doctor_len                                          0.235750   \n",
       "diagnosis_len                                      -0.042878   \n",
       "diagnosis_clarification_len                         1.000000   \n",
       "standartized_diagnosis_len                          0.020126   \n",
       "diagnosis_uuid                                      0.044914   \n",
       "diagnosis_category_level_3_hash                    -0.000872   \n",
       "diagnosis_category_level_1_hash                    -0.014546   \n",
       "service_status                                      0.017245   \n",
       "service_quantity                                    0.022334   \n",
       "service_code                                        0.007200   \n",
       "folk_1_code                                         0.007468   \n",
       "folk_2_code                                         0.023952   \n",
       "folk_3_code                                        -0.035728   \n",
       "service_level_3_category_hash                      -0.004200   \n",
       "service_level_2_category_hash                       0.016199   \n",
       "service_level                                       0.010574   \n",
       "loss                                                0.091004   \n",
       "per_month                                           0.011509   \n",
       "per_week                                            0.007323   \n",
       "target                                              0.048711   \n",
       "count                                               0.113242   \n",
       "\n",
       "                                 standartized_diagnosis_len  diagnosis_uuid  \\\n",
       "status                                             0.004155        0.012833   \n",
       "guarant_letter_uuid                                0.011919        0.016870   \n",
       "comment_len                                        0.046789       -0.045750   \n",
       "patient_id                                        -0.011782        0.002519   \n",
       "doctor_len                                        -0.002966        0.043508   \n",
       "diagnosis_len                                      0.010645       -0.156554   \n",
       "diagnosis_clarification_len                        0.020126        0.044914   \n",
       "standartized_diagnosis_len                         1.000000       -0.072793   \n",
       "diagnosis_uuid                                    -0.072793        1.000000   \n",
       "diagnosis_category_level_3_hash                    0.056895       -0.080328   \n",
       "diagnosis_category_level_1_hash                    0.136497       -0.117951   \n",
       "service_status                                     0.005018        0.006921   \n",
       "service_quantity                                  -0.070396        0.079208   \n",
       "service_code                                       0.002312       -0.003449   \n",
       "folk_1_code                                        0.010218        0.007568   \n",
       "folk_2_code                                        0.047241        0.001231   \n",
       "folk_3_code                                        0.051902       -0.099127   \n",
       "service_level_3_category_hash                      0.062933       -0.056250   \n",
       "service_level_2_category_hash                      0.026363       -0.007106   \n",
       "service_level                                     -0.047629        0.061310   \n",
       "loss                                              -0.013945       -0.039946   \n",
       "per_month                                         -0.021046        0.031114   \n",
       "per_week                                          -0.007750        0.033914   \n",
       "target                                            -0.020033       -0.004181   \n",
       "count                                              0.046754       -0.034344   \n",
       "\n",
       "                                 diagnosis_category_level_3_hash  ...  \\\n",
       "status                                                 -0.023306  ...   \n",
       "guarant_letter_uuid                                    -0.018424  ...   \n",
       "comment_len                                            -0.071517  ...   \n",
       "patient_id                                             -0.040115  ...   \n",
       "doctor_len                                             -0.028262  ...   \n",
       "diagnosis_len                                           0.121762  ...   \n",
       "diagnosis_clarification_len                            -0.000872  ...   \n",
       "standartized_diagnosis_len                              0.056895  ...   \n",
       "diagnosis_uuid                                         -0.080328  ...   \n",
       "diagnosis_category_level_3_hash                         1.000000  ...   \n",
       "diagnosis_category_level_1_hash                         0.140809  ...   \n",
       "service_status                                         -0.041936  ...   \n",
       "service_quantity                                        0.058899  ...   \n",
       "service_code                                            0.016342  ...   \n",
       "folk_1_code                                             0.032534  ...   \n",
       "folk_2_code                                            -0.029006  ...   \n",
       "folk_3_code                                            -0.043066  ...   \n",
       "service_level_3_category_hash                          -0.046096  ...   \n",
       "service_level_2_category_hash                           0.078264  ...   \n",
       "service_level                                           0.027144  ...   \n",
       "loss                                                    0.003264  ...   \n",
       "per_month                                              -0.015234  ...   \n",
       "per_week                                               -0.000551  ...   \n",
       "target                                                 -0.004193  ...   \n",
       "count                                                  -0.136260  ...   \n",
       "\n",
       "                                 folk_2_code  folk_3_code  \\\n",
       "status                             -0.013917    -0.009064   \n",
       "guarant_letter_uuid                -0.000097     0.002782   \n",
       "comment_len                         0.072903     0.088805   \n",
       "patient_id                          0.024671     0.012831   \n",
       "doctor_len                          0.017440     0.005075   \n",
       "diagnosis_len                      -0.046146     0.002419   \n",
       "diagnosis_clarification_len         0.023952    -0.035728   \n",
       "standartized_diagnosis_len          0.047241     0.051902   \n",
       "diagnosis_uuid                      0.001231    -0.099127   \n",
       "diagnosis_category_level_3_hash    -0.029006    -0.043066   \n",
       "diagnosis_category_level_1_hash     0.006293     0.178735   \n",
       "service_status                      0.054935     0.107096   \n",
       "service_quantity                   -0.200819    -0.396403   \n",
       "service_code                       -0.022169     0.093388   \n",
       "folk_1_code                        -0.038087    -0.117447   \n",
       "folk_2_code                         1.000000    -0.082910   \n",
       "folk_3_code                        -0.082910     1.000000   \n",
       "service_level_3_category_hash       0.395095     0.355653   \n",
       "service_level_2_category_hash       0.466460     0.051601   \n",
       "service_level                      -0.457841     0.113018   \n",
       "loss                               -0.011198     0.031949   \n",
       "per_month                          -0.034597    -0.073018   \n",
       "per_week                           -0.045373    -0.079038   \n",
       "target                             -0.034692    -0.025173   \n",
       "count                               0.221055     0.067415   \n",
       "\n",
       "                                 service_level_3_category_hash  \\\n",
       "status                                               -0.014759   \n",
       "guarant_letter_uuid                                   0.007902   \n",
       "comment_len                                           0.131048   \n",
       "patient_id                                            0.021806   \n",
       "doctor_len                                            0.015109   \n",
       "diagnosis_len                                        -0.028898   \n",
       "diagnosis_clarification_len                          -0.004200   \n",
       "standartized_diagnosis_len                            0.062933   \n",
       "diagnosis_uuid                                       -0.056250   \n",
       "diagnosis_category_level_3_hash                      -0.046096   \n",
       "diagnosis_category_level_1_hash                       0.132279   \n",
       "service_status                                        0.144865   \n",
       "service_quantity                                     -0.303134   \n",
       "service_code                                         -0.009891   \n",
       "folk_1_code                                           0.299474   \n",
       "folk_2_code                                           0.395095   \n",
       "folk_3_code                                           0.355653   \n",
       "service_level_3_category_hash                         1.000000   \n",
       "service_level_2_category_hash                         0.184989   \n",
       "service_level                                        -0.124088   \n",
       "loss                                                 -0.028160   \n",
       "per_month                                            -0.061306   \n",
       "per_week                                             -0.065993   \n",
       "target                                               -0.060596   \n",
       "count                                                 0.232583   \n",
       "\n",
       "                                 service_level_2_category_hash  service_level  \\\n",
       "status                                               -0.004434       0.011610   \n",
       "guarant_letter_uuid                                  -0.007290       0.001806   \n",
       "comment_len                                           0.010226      -0.076072   \n",
       "patient_id                                            0.002926      -0.009454   \n",
       "doctor_len                                            0.011587       0.025835   \n",
       "diagnosis_len                                         0.012041      -0.122322   \n",
       "diagnosis_clarification_len                           0.016199       0.010574   \n",
       "standartized_diagnosis_len                            0.026363      -0.047629   \n",
       "diagnosis_uuid                                       -0.007106       0.061310   \n",
       "diagnosis_category_level_3_hash                       0.078264       0.027144   \n",
       "diagnosis_category_level_1_hash                       0.047125      -0.004546   \n",
       "service_status                                        0.002248      -0.031075   \n",
       "service_quantity                                     -0.052762       0.142955   \n",
       "service_code                                          0.168918       0.027679   \n",
       "folk_1_code                                           0.418653       0.005549   \n",
       "folk_2_code                                           0.466460      -0.457841   \n",
       "folk_3_code                                           0.051601       0.113018   \n",
       "service_level_3_category_hash                         0.184989      -0.124088   \n",
       "service_level_2_category_hash                         1.000000      -0.239484   \n",
       "service_level                                        -0.239484       1.000000   \n",
       "loss                                                 -0.007889       0.008059   \n",
       "per_month                                            -0.003513       0.035177   \n",
       "per_week                                             -0.012899       0.031944   \n",
       "target                                               -0.004284       0.028781   \n",
       "count                                                 0.065222      -0.157600   \n",
       "\n",
       "                                     loss  per_month  per_week    target  \\\n",
       "status                          -0.035949   0.012364  0.006180 -0.018393   \n",
       "guarant_letter_uuid              0.002405   0.008961  0.009517  0.006272   \n",
       "comment_len                      0.033855  -0.042018 -0.065541 -0.003479   \n",
       "patient_id                      -0.041616  -0.010566 -0.013845 -0.049756   \n",
       "doctor_len                       0.035753  -0.008644 -0.011516  0.025657   \n",
       "diagnosis_len                    0.038071  -0.010575 -0.007534  0.018654   \n",
       "diagnosis_clarification_len      0.091004   0.011509  0.007323  0.048711   \n",
       "standartized_diagnosis_len      -0.013945  -0.021046 -0.007750 -0.020033   \n",
       "diagnosis_uuid                  -0.039946   0.031114  0.033914 -0.004181   \n",
       "diagnosis_category_level_3_hash  0.003264  -0.015234 -0.000551 -0.004193   \n",
       "diagnosis_category_level_1_hash -0.043124  -0.028579 -0.019067 -0.053550   \n",
       "service_status                  -0.027265  -0.017851 -0.015854 -0.025279   \n",
       "service_quantity                -0.002401   0.069842  0.074856  0.043967   \n",
       "service_code                     0.006017   0.002895  0.000760  0.003230   \n",
       "folk_1_code                     -0.022628   0.001446  0.005643 -0.011070   \n",
       "folk_2_code                     -0.011198  -0.034597 -0.045373 -0.034692   \n",
       "folk_3_code                      0.031949  -0.073018 -0.079038 -0.025173   \n",
       "service_level_3_category_hash   -0.028160  -0.061306 -0.065993 -0.060596   \n",
       "service_level_2_category_hash   -0.007889  -0.003513 -0.012899 -0.004284   \n",
       "service_level                    0.008059   0.035177  0.031944  0.028781   \n",
       "loss                             1.000000   0.008503  0.002839  0.589893   \n",
       "per_month                        0.008503   1.000000  0.840001  0.648064   \n",
       "per_week                         0.002839   0.840001  1.000000  0.540943   \n",
       "target                           0.589893   0.648064  0.540943  1.000000   \n",
       "count                            0.023885  -0.029638 -0.050632  0.002520   \n",
       "\n",
       "                                    count  \n",
       "status                          -0.035668  \n",
       "guarant_letter_uuid              0.007622  \n",
       "comment_len                      0.398127  \n",
       "patient_id                       0.064476  \n",
       "doctor_len                       0.010232  \n",
       "diagnosis_len                   -0.086236  \n",
       "diagnosis_clarification_len      0.113242  \n",
       "standartized_diagnosis_len       0.046754  \n",
       "diagnosis_uuid                  -0.034344  \n",
       "diagnosis_category_level_3_hash -0.136260  \n",
       "diagnosis_category_level_1_hash -0.035358  \n",
       "service_status                   0.255996  \n",
       "service_quantity                -0.165165  \n",
       "service_code                     0.000333  \n",
       "folk_1_code                      0.021175  \n",
       "folk_2_code                      0.221055  \n",
       "folk_3_code                      0.067415  \n",
       "service_level_3_category_hash    0.232583  \n",
       "service_level_2_category_hash    0.065222  \n",
       "service_level                   -0.157600  \n",
       "loss                             0.023885  \n",
       "per_month                       -0.029638  \n",
       "per_week                        -0.050632  \n",
       "target                           0.002520  \n",
       "count                            1.000000  \n",
       "\n",
       "[25 rows x 25 columns]"
      ]
     },
     "execution_count": 1367,
     "metadata": {},
     "output_type": "execute_result"
    }
   ],
   "source": [
    "correlations = result.corr()\n",
    "correlations"
   ]
  },
  {
   "cell_type": "code",
   "execution_count": 1368,
   "metadata": {},
   "outputs": [
    {
     "data": {
      "image/png": "[encoded data removed]",
      "text/plain": [
       "<Figure size 576x576 with 2 Axes>"
      ]
     },
     "metadata": {
      "needs_background": "light"
     },
     "output_type": "display_data"
    }
   ],
   "source": [
    "plt.figure(figsize=(8, 8))\n",
    "sns.heatmap(correlations, square=True)\n",
    "plt.show()"
   ]
  },
  {
   "cell_type": "markdown",
   "metadata": {},
   "source": [
    "Видим, что последние признаки между собой неплохо коррелируют"
   ]
  },
  {
   "cell_type": "code",
   "execution_count": 1343,
   "metadata": {},
   "outputs": [
    {
     "data": {
      "image/png": "[encoded data removed]",
      "text/plain": [
       "<Figure size 1440x1440 with 16 Axes>"
      ]
     },
     "metadata": {
      "needs_background": "light"
     },
     "output_type": "display_data"
    }
   ],
   "source": [
    "result.hist(figsize = (20, 20))\n",
    "plt.show()"
   ]
  },
  {
   "cell_type": "code",
   "execution_count": 1633,
   "metadata": {},
   "outputs": [
    {
     "data": {
      "image/png": "[encoded data removed]",
      "text/plain": [
       "<Figure size 432x288 with 1 Axes>"
      ]
     },
     "metadata": {
      "needs_background": "light"
     },
     "output_type": "display_data"
    }
   ],
   "source": [
    "result['per_week'].hist()\n",
    "plt.show()"
   ]
  },
  {
   "cell_type": "code",
   "execution_count": 1634,
   "metadata": {},
   "outputs": [
    {
     "data": {
      "image/png": "[encoded data removed]",
      "text/plain": [
       "<Figure size 432x288 with 1 Axes>"
      ]
     },
     "metadata": {
      "needs_background": "light"
     },
     "output_type": "display_data"
    }
   ],
   "source": [
    "result['per_month'].hist()\n",
    "plt.show()"
   ]
  },
  {
   "cell_type": "code",
   "execution_count": 1635,
   "metadata": {},
   "outputs": [
    {
     "data": {
      "image/png": "[encoded data removed]",
      "text/plain": [
       "<Figure size 432x288 with 1 Axes>"
      ]
     },
     "metadata": {
      "needs_background": "light"
     },
     "output_type": "display_data"
    }
   ],
   "source": [
    "result['count'].hist()\n",
    "plt.show()"
   ]
  },
  {
   "cell_type": "code",
   "execution_count": 1645,
   "metadata": {},
   "outputs": [
    {
     "data": {
      "image/png": "[encoded data removed]",
      "text/plain": [
       "<Figure size 432x288 with 1 Axes>"
      ]
     },
     "metadata": {
      "needs_background": "light"
     },
     "output_type": "display_data"
    }
   ],
   "source": [
    "result['target'].hist()\n",
    "plt.show()"
   ]
  },
  {
   "cell_type": "code",
   "execution_count": 1682,
   "metadata": {},
   "outputs": [],
   "source": [
    "pie = pd.DataFrame()"
   ]
  },
  {
   "cell_type": "code",
   "execution_count": 1677,
   "metadata": {},
   "outputs": [
    {
     "data": {
      "text/plain": [
       "50000"
      ]
     },
     "execution_count": 1677,
     "metadata": {},
     "output_type": "execute_result"
    }
   ],
   "source": [
    "result.shape[0]"
   ]
  },
  {
   "cell_type": "code",
   "execution_count": 1696,
   "metadata": {},
   "outputs": [],
   "source": [
    "count = [result.loc[(result['target'] > 0) & (result['target'] <= 10), 'target'].count() / result.shape[0],\n",
    "                result.loc[(result['target'] > 10) & (result['target'] <= 20), 'target'].count() / result.shape[0],\n",
    "                result.loc[(result['target'] > 20) & (result['target'] <= 30), 'target'].count() / result.shape[0],\n",
    "                result.loc[(result['target'] > 30) & (result['target'] <= 40), 'target'].count() / result.shape[0],\n",
    "                result.loc[(result['target'] > 40) & (result['target'] <= 50), 'target'].count() / result.shape[0],\n",
    "                result.loc[result['target'] > 50, 'target'].count() / result.shape[0]]"
   ]
  },
  {
   "cell_type": "code",
   "execution_count": 1707,
   "metadata": {},
   "outputs": [
    {
     "data": {
      "text/plain": [
       "[0.54756, 0.25198, 0.10618, 0.04494, 0.02116, 0.02818]"
      ]
     },
     "execution_count": 1707,
     "metadata": {},
     "output_type": "execute_result"
    }
   ],
   "source": [
    "count"
   ]
  },
  {
   "cell_type": "code",
   "execution_count": 1697,
   "metadata": {},
   "outputs": [],
   "source": [
    "names = ['<10', '10-20', '20-30', '30-40', '40-50', '>50']"
   ]
  },
  {
   "cell_type": "code",
   "execution_count": 1706,
   "metadata": {},
   "outputs": [
    {
     "data": {
      "image/png": "[encoded data removed]",
      "text/plain": [
       "<Figure size 648x648 with 1 Axes>"
      ]
     },
     "metadata": {},
     "output_type": "display_data"
    }
   ],
   "source": [
    "plt.figure(figsize=(9,9))\n",
    "plt.pie(count, labels=names, autopct='%1.1f%%', shadow=True, startangle=90, textprops={'fontsize': 12})\n",
    "plt.show()"
   ]
  },
  {
   "cell_type": "markdown",
   "metadata": {},
   "source": [
    "Переведем признак created_at в численный формат - разница между датой и сегодняшним днем"
   ]
  },
  {
   "cell_type": "code",
   "execution_count": 1350,
   "metadata": {},
   "outputs": [],
   "source": [
    "from datetime import date\n",
    "\n",
    "today = date.today()\n",
    "for i in range(len(result['created_at'])):\n",
    "    result['created_at'][i] = abs((today - result['created_at'][i]).days)"
   ]
  },
  {
   "cell_type": "code",
   "execution_count": 1369,
   "metadata": {},
   "outputs": [],
   "source": [
    "categorical = ['guarant_letter_uuid', 'status', 'service_status', 'folk_1_code', 'folk_2_code', 'folk_3_code',\n",
    "              'service_level_3_category_hash', 'service_level_2_category_hash', 'service_level', 'diagnosis_uuid',\n",
    "              'diagnosis_category_level_3_hash', 'diagnosis_category_level_1_hash', 'service_code']"
   ]
  },
  {
   "cell_type": "code",
   "execution_count": 1353,
   "metadata": {},
   "outputs": [],
   "source": [
    "for i in categorical:\n",
    "    le = LabelEncoder()\n",
    "    result[i] = le.fit_transform(result[i])"
   ]
  },
  {
   "cell_type": "code",
   "execution_count": 1421,
   "metadata": {},
   "outputs": [],
   "source": [
    "y = result['target']\n",
    "X = result.drop('target', axis=1)\n",
    "X_train, X_test, y_train, y_test = train_test_split(X, y, test_size= .30, random_state=1)"
   ]
  },
  {
   "cell_type": "markdown",
   "metadata": {},
   "source": [
    "##### DecisionTreeRegressor"
   ]
  },
  {
   "cell_type": "code",
   "execution_count": 1371,
   "metadata": {},
   "outputs": [
    {
     "data": {
      "text/plain": [
       "GridSearchCV(cv=KFold(n_splits=5, random_state=241, shuffle=True),\n",
       "             estimator=DecisionTreeRegressor(random_state=241),\n",
       "             param_grid={'max_depth': [2, 4, 6, 8, 10, 20, 50],\n",
       "                         'max_features': ['auto', 'log2', 'sqrt'],\n",
       "                         'min_samples_leaf': [1, 4, 8, 32]},\n",
       "             scoring='r2')"
      ]
     },
     "execution_count": 1371,
     "metadata": {},
     "output_type": "execute_result"
    }
   ],
   "source": [
    "cv = KFold(shuffle=True, random_state=241)\n",
    "\n",
    "gs = GridSearchCV(DecisionTreeRegressor(random_state=241),\n",
    "                  param_grid={\n",
    "                      'max_features': ['auto', 'log2', 'sqrt'],\n",
    "                      'max_depth': [2, 4, 6, 8, 10, 20, 50],\n",
    "                      'min_samples_leaf': [1, 4, 8, 32],\n",
    "                  },\n",
    "                  cv=cv,\n",
    "                  scoring='r2')\n",
    "\n",
    "gs.fit(X_train, y_train)"
   ]
  },
  {
   "cell_type": "code",
   "execution_count": 1456,
   "metadata": {},
   "outputs": [
    {
     "data": {
      "text/html": [
       "<div>\n",
       "<style scoped>\n",
       "    .dataframe tbody tr th:only-of-type {\n",
       "        vertical-align: middle;\n",
       "    }\n",
       "\n",
       "    .dataframe tbody tr th {\n",
       "        vertical-align: top;\n",
       "    }\n",
       "\n",
       "    .dataframe thead th {\n",
       "        text-align: right;\n",
       "    }\n",
       "</style>\n",
       "<table border=\"1\" class=\"dataframe\">\n",
       "  <thead>\n",
       "    <tr style=\"text-align: right;\">\n",
       "      <th></th>\n",
       "      <th>max_depth</th>\n",
       "      <th>max_features</th>\n",
       "      <th>min_samples_leaf</th>\n",
       "      <th>mean_test_score</th>\n",
       "    </tr>\n",
       "  </thead>\n",
       "  <tbody>\n",
       "    <tr>\n",
       "      <th>0</th>\n",
       "      <td>2</td>\n",
       "      <td>auto</td>\n",
       "      <td>1</td>\n",
       "      <td>0.454371</td>\n",
       "    </tr>\n",
       "    <tr>\n",
       "      <th>1</th>\n",
       "      <td>2</td>\n",
       "      <td>auto</td>\n",
       "      <td>4</td>\n",
       "      <td>0.454371</td>\n",
       "    </tr>\n",
       "    <tr>\n",
       "      <th>2</th>\n",
       "      <td>2</td>\n",
       "      <td>auto</td>\n",
       "      <td>8</td>\n",
       "      <td>0.454371</td>\n",
       "    </tr>\n",
       "    <tr>\n",
       "      <th>3</th>\n",
       "      <td>2</td>\n",
       "      <td>auto</td>\n",
       "      <td>32</td>\n",
       "      <td>0.454371</td>\n",
       "    </tr>\n",
       "    <tr>\n",
       "      <th>4</th>\n",
       "      <td>2</td>\n",
       "      <td>log2</td>\n",
       "      <td>1</td>\n",
       "      <td>0.197612</td>\n",
       "    </tr>\n",
       "  </tbody>\n",
       "</table>\n",
       "</div>"
      ],
      "text/plain": [
       "   max_depth max_features  min_samples_leaf  mean_test_score\n",
       "0          2         auto                 1         0.454371\n",
       "1          2         auto                 4         0.454371\n",
       "2          2         auto                 8         0.454371\n",
       "3          2         auto                32         0.454371\n",
       "4          2         log2                 1         0.197612"
      ]
     },
     "execution_count": 1456,
     "metadata": {},
     "output_type": "execute_result"
    }
   ],
   "source": [
    "cv_grid = pd.DataFrame(gs.cv_results_['params'])\n",
    "\n",
    "cv_grid['mean_test_score'] = gs.cv_results_['mean_test_score']\n",
    "cv_grid.head()"
   ]
  },
  {
   "cell_type": "code",
   "execution_count": 1457,
   "metadata": {},
   "outputs": [
    {
     "data": {
      "text/plain": [
       "<seaborn.axisgrid.FacetGrid at 0x7fa8f6cf3790>"
      ]
     },
     "execution_count": 1457,
     "metadata": {},
     "output_type": "execute_result"
    },
    {
     "data": {
      "image/png": "[encoded data removed]",
      "text/plain": [
       "<Figure size 1510.67x360 with 4 Axes>"
      ]
     },
     "metadata": {
      "needs_background": "light"
     },
     "output_type": "display_data"
    }
   ],
   "source": [
    "sns.catplot(x='max_depth', y='mean_test_score', data=cv_grid,\n",
    "            col='min_samples_leaf', hue='max_features',\n",
    "            kind='point')"
   ]
  },
  {
   "cell_type": "code",
   "execution_count": 1373,
   "metadata": {},
   "outputs": [
    {
     "data": {
      "text/plain": [
       "{'max_depth': 50, 'max_features': 'auto', 'min_samples_leaf': 4}"
      ]
     },
     "execution_count": 1373,
     "metadata": {},
     "output_type": "execute_result"
    }
   ],
   "source": [
    "gs.best_params_"
   ]
  },
  {
   "cell_type": "code",
   "execution_count": 1455,
   "metadata": {},
   "outputs": [
    {
     "data": {
      "text/plain": [
       "0.8841060990238686"
      ]
     },
     "execution_count": 1455,
     "metadata": {},
     "output_type": "execute_result"
    }
   ],
   "source": [
    "gs.best_score_"
   ]
  },
  {
   "cell_type": "code",
   "execution_count": 1430,
   "metadata": {},
   "outputs": [],
   "source": [
    "dtr = DecisionTreeRegressor(random_state=241, max_depth=50, max_features='auto', min_samples_leaf=4)"
   ]
  },
  {
   "cell_type": "code",
   "execution_count": 1431,
   "metadata": {},
   "outputs": [
    {
     "data": {
      "text/plain": [
       "DecisionTreeRegressor(max_depth=50, max_features='auto', random_state=241)"
      ]
     },
     "execution_count": 1431,
     "metadata": {},
     "output_type": "execute_result"
    }
   ],
   "source": [
    "dtr.fit(X_train, y_train)"
   ]
  },
  {
   "cell_type": "code",
   "execution_count": 1571,
   "metadata": {},
   "outputs": [],
   "source": [
    "y_dtr = dtr.predict(X_test)"
   ]
  },
  {
   "cell_type": "code",
   "execution_count": 1572,
   "metadata": {},
   "outputs": [
    {
     "name": "stdout",
     "output_type": "stream",
     "text": [
      "RMSE = 3.804141503340635\n"
     ]
    }
   ],
   "source": [
    "from sklearn.metrics import mean_squared_error\n",
    "print('RMSE =', mean_squared_error(y_test, y_dtr, squared=False))"
   ]
  },
  {
   "cell_type": "markdown",
   "metadata": {},
   "source": [
    "##### RandomForestRegressor"
   ]
  },
  {
   "cell_type": "code",
   "execution_count": 1490,
   "metadata": {},
   "outputs": [
    {
     "data": {
      "text/plain": [
       "GridSearchCV(cv=KFold(n_splits=5, random_state=241, shuffle=True),\n",
       "             estimator=RandomForestRegressor(random_state=241),\n",
       "             param_grid={'max_depth': [2, 4, 6, 8, 10, 20, 50],\n",
       "                         'max_features': ['auto', 'log2', 'sqrt'],\n",
       "                         'min_samples_leaf': [1, 4, 8, 32]},\n",
       "             scoring='r2')"
      ]
     },
     "execution_count": 1490,
     "metadata": {},
     "output_type": "execute_result"
    }
   ],
   "source": [
    "cv = KFold(shuffle=True, random_state=241)\n",
    "\n",
    "gs = GridSearchCV(RandomForestRegressor(random_state=241),\n",
    "                  param_grid={\n",
    "                      'max_features': ['auto', 'log2', 'sqrt'],\n",
    "                      'max_depth': [2, 4, 6, 8, 10, 20, 50],\n",
    "                      'min_samples_leaf': [1, 4, 8, 32],\n",
    "                  },\n",
    "                  cv=cv,\n",
    "                  scoring='r2')\n",
    "\n",
    "gs.fit(X_train, y_train)"
   ]
  },
  {
   "cell_type": "code",
   "execution_count": 1491,
   "metadata": {},
   "outputs": [
    {
     "data": {
      "text/html": [
       "<div>\n",
       "<style scoped>\n",
       "    .dataframe tbody tr th:only-of-type {\n",
       "        vertical-align: middle;\n",
       "    }\n",
       "\n",
       "    .dataframe tbody tr th {\n",
       "        vertical-align: top;\n",
       "    }\n",
       "\n",
       "    .dataframe thead th {\n",
       "        text-align: right;\n",
       "    }\n",
       "</style>\n",
       "<table border=\"1\" class=\"dataframe\">\n",
       "  <thead>\n",
       "    <tr style=\"text-align: right;\">\n",
       "      <th></th>\n",
       "      <th>max_depth</th>\n",
       "      <th>max_features</th>\n",
       "      <th>min_samples_leaf</th>\n",
       "      <th>mean_test_score</th>\n",
       "    </tr>\n",
       "  </thead>\n",
       "  <tbody>\n",
       "    <tr>\n",
       "      <th>0</th>\n",
       "      <td>2</td>\n",
       "      <td>auto</td>\n",
       "      <td>1</td>\n",
       "      <td>0.571349</td>\n",
       "    </tr>\n",
       "    <tr>\n",
       "      <th>1</th>\n",
       "      <td>2</td>\n",
       "      <td>auto</td>\n",
       "      <td>4</td>\n",
       "      <td>0.581617</td>\n",
       "    </tr>\n",
       "    <tr>\n",
       "      <th>2</th>\n",
       "      <td>2</td>\n",
       "      <td>auto</td>\n",
       "      <td>8</td>\n",
       "      <td>0.562738</td>\n",
       "    </tr>\n",
       "    <tr>\n",
       "      <th>3</th>\n",
       "      <td>2</td>\n",
       "      <td>auto</td>\n",
       "      <td>32</td>\n",
       "      <td>0.480210</td>\n",
       "    </tr>\n",
       "    <tr>\n",
       "      <th>4</th>\n",
       "      <td>2</td>\n",
       "      <td>log2</td>\n",
       "      <td>1</td>\n",
       "      <td>0.298922</td>\n",
       "    </tr>\n",
       "  </tbody>\n",
       "</table>\n",
       "</div>"
      ],
      "text/plain": [
       "   max_depth max_features  min_samples_leaf  mean_test_score\n",
       "0          2         auto                 1         0.571349\n",
       "1          2         auto                 4         0.581617\n",
       "2          2         auto                 8         0.562738\n",
       "3          2         auto                32         0.480210\n",
       "4          2         log2                 1         0.298922"
      ]
     },
     "execution_count": 1491,
     "metadata": {},
     "output_type": "execute_result"
    }
   ],
   "source": [
    "cv_grid = pd.DataFrame(gs.cv_results_['params'])\n",
    "\n",
    "cv_grid['mean_test_score'] = gs.cv_results_['mean_test_score']\n",
    "cv_grid.head()"
   ]
  },
  {
   "cell_type": "code",
   "execution_count": 1493,
   "metadata": {},
   "outputs": [
    {
     "data": {
      "text/plain": [
       "<seaborn.axisgrid.FacetGrid at 0x7fa8f6d1dd50>"
      ]
     },
     "execution_count": 1493,
     "metadata": {},
     "output_type": "execute_result"
    },
    {
     "data": {
      "image/png": "[encoded data removed]",
      "text/plain": [
       "<Figure size 1510.67x360 with 4 Axes>"
      ]
     },
     "metadata": {
      "needs_background": "light"
     },
     "output_type": "display_data"
    }
   ],
   "source": [
    "sns.catplot(x='max_depth', y='mean_test_score', data=cv_grid,\n",
    "            col='min_samples_leaf', hue='max_features',\n",
    "            kind='point')"
   ]
  },
  {
   "cell_type": "code",
   "execution_count": 1494,
   "metadata": {},
   "outputs": [
    {
     "data": {
      "text/plain": [
       "{'max_depth': 50, 'max_features': 'auto', 'min_samples_leaf': 1}"
      ]
     },
     "execution_count": 1494,
     "metadata": {},
     "output_type": "execute_result"
    }
   ],
   "source": [
    "gs.best_params_"
   ]
  },
  {
   "cell_type": "code",
   "execution_count": 1495,
   "metadata": {},
   "outputs": [
    {
     "data": {
      "text/plain": [
       "0.8028801263741642"
      ]
     },
     "execution_count": 1495,
     "metadata": {},
     "output_type": "execute_result"
    }
   ],
   "source": [
    "gs.best_score_"
   ]
  },
  {
   "cell_type": "code",
   "execution_count": 1499,
   "metadata": {},
   "outputs": [],
   "source": [
    "rfr = RandomForestRegressor(random_state=241, max_depth=50, max_features='auto', min_samples_leaf=1)"
   ]
  },
  {
   "cell_type": "code",
   "execution_count": 1500,
   "metadata": {},
   "outputs": [
    {
     "data": {
      "text/plain": [
       "RandomForestRegressor(max_depth=50, random_state=241)"
      ]
     },
     "execution_count": 1500,
     "metadata": {},
     "output_type": "execute_result"
    }
   ],
   "source": [
    "rfr.fit(X_train, y_train)"
   ]
  },
  {
   "cell_type": "code",
   "execution_count": 1578,
   "metadata": {},
   "outputs": [],
   "source": [
    "y_rfr = rfr.predict(X_test)"
   ]
  },
  {
   "cell_type": "code",
   "execution_count": 1570,
   "metadata": {},
   "outputs": [
    {
     "name": "stdout",
     "output_type": "stream",
     "text": [
      "RMSE = 3.0314098410659733\n"
     ]
    }
   ],
   "source": [
    "print('RMSE =', mean_squared_error(y_test, y_rfr, squared=False))"
   ]
  },
  {
   "cell_type": "markdown",
   "metadata": {},
   "source": [
    "##### CatBoost"
   ]
  },
  {
   "cell_type": "code",
   "execution_count": 1511,
   "metadata": {},
   "outputs": [],
   "source": [
    "from catboost import CatBoostRegressor"
   ]
  },
  {
   "cell_type": "code",
   "execution_count": 1550,
   "metadata": {},
   "outputs": [
    {
     "data": {
      "text/plain": [
       "GridSearchCV(cv=KFold(n_splits=5, random_state=241, shuffle=True),\n",
       "             estimator=<catboost.core.CatBoostRegressor object at 0x7fa669dc6b50>,\n",
       "             param_grid={'depth': array([1, 3, 5, 7, 9]),\n",
       "                         'iterations': array([ 1, 11, 21, 31, 41, 51, 61, 71, 81, 91]),\n",
       "                         'learning_rate': [0.001, 0.01, 0.02, 0.03, 0.5, 0.1,\n",
       "                                           1]},\n",
       "             scoring='r2')"
      ]
     },
     "execution_count": 1550,
     "metadata": {},
     "output_type": "execute_result"
    }
   ],
   "source": [
    "cv = KFold(shuffle=True, random_state=241)\n",
    "\n",
    "gs = GridSearchCV(CatBoostRegressor(loss_function='RMSE', logging_level='Silent'),\n",
    "                  param_grid={\n",
    "                      'iterations': np.arange(1, 100, 10),\n",
    "                      'depth': np.arange(1, 10, 2),\n",
    "                      'learning_rate': [0.001, 0.01, 0.02, 0.03, 0.5, 0.1, 1],\n",
    "                  },\n",
    "                  cv=cv,\n",
    "                  scoring='r2')\n",
    "\n",
    "gs.fit(X_train[:1000], y_train[:1000])"
   ]
  },
  {
   "cell_type": "code",
   "execution_count": 1551,
   "metadata": {},
   "outputs": [
    {
     "data": {
      "text/html": [
       "<div>\n",
       "<style scoped>\n",
       "    .dataframe tbody tr th:only-of-type {\n",
       "        vertical-align: middle;\n",
       "    }\n",
       "\n",
       "    .dataframe tbody tr th {\n",
       "        vertical-align: top;\n",
       "    }\n",
       "\n",
       "    .dataframe thead th {\n",
       "        text-align: right;\n",
       "    }\n",
       "</style>\n",
       "<table border=\"1\" class=\"dataframe\">\n",
       "  <thead>\n",
       "    <tr style=\"text-align: right;\">\n",
       "      <th></th>\n",
       "      <th>depth</th>\n",
       "      <th>iterations</th>\n",
       "      <th>learning_rate</th>\n",
       "      <th>mean_test_score</th>\n",
       "    </tr>\n",
       "  </thead>\n",
       "  <tbody>\n",
       "    <tr>\n",
       "      <th>0</th>\n",
       "      <td>1</td>\n",
       "      <td>1</td>\n",
       "      <td>0.001</td>\n",
       "      <td>-0.007277</td>\n",
       "    </tr>\n",
       "    <tr>\n",
       "      <th>1</th>\n",
       "      <td>1</td>\n",
       "      <td>1</td>\n",
       "      <td>0.010</td>\n",
       "      <td>-0.004015</td>\n",
       "    </tr>\n",
       "    <tr>\n",
       "      <th>2</th>\n",
       "      <td>1</td>\n",
       "      <td>1</td>\n",
       "      <td>0.020</td>\n",
       "      <td>-0.000417</td>\n",
       "    </tr>\n",
       "    <tr>\n",
       "      <th>3</th>\n",
       "      <td>1</td>\n",
       "      <td>1</td>\n",
       "      <td>0.030</td>\n",
       "      <td>0.003151</td>\n",
       "    </tr>\n",
       "    <tr>\n",
       "      <th>4</th>\n",
       "      <td>1</td>\n",
       "      <td>1</td>\n",
       "      <td>0.500</td>\n",
       "      <td>0.138300</td>\n",
       "    </tr>\n",
       "  </tbody>\n",
       "</table>\n",
       "</div>"
      ],
      "text/plain": [
       "   depth  iterations  learning_rate  mean_test_score\n",
       "0      1           1          0.001        -0.007277\n",
       "1      1           1          0.010        -0.004015\n",
       "2      1           1          0.020        -0.000417\n",
       "3      1           1          0.030         0.003151\n",
       "4      1           1          0.500         0.138300"
      ]
     },
     "execution_count": 1551,
     "metadata": {},
     "output_type": "execute_result"
    }
   ],
   "source": [
    "cv_grid = pd.DataFrame(gs.cv_results_['params'])\n",
    "\n",
    "cv_grid['mean_test_score'] = gs.cv_results_['mean_test_score']\n",
    "cv_grid.head()"
   ]
  },
  {
   "cell_type": "code",
   "execution_count": 1644,
   "metadata": {},
   "outputs": [
    {
     "data": {
      "text/plain": [
       "<seaborn.axisgrid.FacetGrid at 0x7faa4e8ee710>"
      ]
     },
     "execution_count": 1644,
     "metadata": {},
     "output_type": "execute_result"
    },
    {
     "data": {
      "image/png": "[encoded data removed]",
      "text/plain": [
       "<Figure size 428.175x360 with 1 Axes>"
      ]
     },
     "metadata": {
      "needs_background": "light"
     },
     "output_type": "display_data"
    }
   ],
   "source": [
    "sns.catplot(x='depth', y='mean_test_score', data=cv_grid[cv_grid['iterations'] == 91],\n",
    "            col='iterations', hue='learning_rate',\n",
    "            kind='point')"
   ]
  },
  {
   "cell_type": "code",
   "execution_count": 1553,
   "metadata": {},
   "outputs": [
    {
     "data": {
      "text/plain": [
       "{'depth': 3, 'iterations': 91, 'learning_rate': 0.1}"
      ]
     },
     "execution_count": 1553,
     "metadata": {},
     "output_type": "execute_result"
    }
   ],
   "source": [
    "gs.best_params_"
   ]
  },
  {
   "cell_type": "code",
   "execution_count": 1554,
   "metadata": {},
   "outputs": [
    {
     "data": {
      "text/plain": [
       "0.8143841035597728"
      ]
     },
     "execution_count": 1554,
     "metadata": {},
     "output_type": "execute_result"
    }
   ],
   "source": [
    "gs.best_score_"
   ]
  },
  {
   "cell_type": "code",
   "execution_count": 1560,
   "metadata": {},
   "outputs": [],
   "source": [
    "cbr = CatBoostRegressor(loss_function='RMSE', logging_level='Silent', **gs.best_params_)"
   ]
  },
  {
   "cell_type": "code",
   "execution_count": 1562,
   "metadata": {},
   "outputs": [
    {
     "data": {
      "text/plain": [
       "<catboost.core.CatBoostRegressor at 0x7fa8f6d0de50>"
      ]
     },
     "execution_count": 1562,
     "metadata": {},
     "output_type": "execute_result"
    }
   ],
   "source": [
    "cbr.fit(X_train, y_train)"
   ]
  },
  {
   "cell_type": "code",
   "execution_count": 1576,
   "metadata": {},
   "outputs": [],
   "source": [
    "y_cbr = cbr.predict(X_test)"
   ]
  },
  {
   "cell_type": "code",
   "execution_count": 1574,
   "metadata": {},
   "outputs": [
    {
     "name": "stdout",
     "output_type": "stream",
     "text": [
      "RMSE = 5.8517310063423364\n"
     ]
    }
   ],
   "source": [
    "print('RMSE =', mean_squared_error(y_test, y_cbr, squared=False))"
   ]
  },
  {
   "cell_type": "code",
   "execution_count": 1594,
   "metadata": {},
   "outputs": [],
   "source": [
    "models = ['Decision tree', 'Random forest', 'CatBoost']\n",
    "preds = [y_dtr, y_rfr, y_cbr]\n",
    "metrics = pd.DataFrame(columns=models)\n",
    "for i in range(len(models)):\n",
    "    metrics.loc['RMSE', models[i]] = mean_squared_error(y_test, preds[i], squared=False) \n",
    "    metrics.loc['MAE', models[i]] = mean_absolute_error(y_test, preds[i])\n",
    "    metrics.loc['R2', models[i]] = r2_score(y_test, preds[i])"
   ]
  },
  {
   "cell_type": "code",
   "execution_count": 1595,
   "metadata": {},
   "outputs": [
    {
     "data": {
      "text/html": [
       "<div>\n",
       "<style scoped>\n",
       "    .dataframe tbody tr th:only-of-type {\n",
       "        vertical-align: middle;\n",
       "    }\n",
       "\n",
       "    .dataframe tbody tr th {\n",
       "        vertical-align: top;\n",
       "    }\n",
       "\n",
       "    .dataframe thead th {\n",
       "        text-align: right;\n",
       "    }\n",
       "</style>\n",
       "<table border=\"1\" class=\"dataframe\">\n",
       "  <thead>\n",
       "    <tr style=\"text-align: right;\">\n",
       "      <th></th>\n",
       "      <th>Decision tree</th>\n",
       "      <th>Random forest</th>\n",
       "      <th>CatBoost</th>\n",
       "    </tr>\n",
       "  </thead>\n",
       "  <tbody>\n",
       "    <tr>\n",
       "      <th>RMSE</th>\n",
       "      <td>3.804142</td>\n",
       "      <td>3.03141</td>\n",
       "      <td>5.851731</td>\n",
       "    </tr>\n",
       "    <tr>\n",
       "      <th>MAE</th>\n",
       "      <td>0.589576</td>\n",
       "      <td>0.743685</td>\n",
       "      <td>2.525766</td>\n",
       "    </tr>\n",
       "    <tr>\n",
       "      <th>R2</th>\n",
       "      <td>0.902283</td>\n",
       "      <td>0.937949</td>\n",
       "      <td>0.768779</td>\n",
       "    </tr>\n",
       "  </tbody>\n",
       "</table>\n",
       "</div>"
      ],
      "text/plain": [
       "     Decision tree Random forest  CatBoost\n",
       "RMSE      3.804142       3.03141  5.851731\n",
       "MAE       0.589576      0.743685  2.525766\n",
       "R2        0.902283      0.937949  0.768779"
      ]
     },
     "execution_count": 1595,
     "metadata": {},
     "output_type": "execute_result"
    }
   ],
   "source": [
    "metrics"
   ]
  },
  {
   "cell_type": "code",
   "execution_count": null,
   "metadata": {},
   "outputs": [],
   "source": []
  }
 ],
 "metadata": {
  "kernelspec": {
   "display_name": "Python 3",
   "language": "python",
   "name": "python3"
  },
  "language_info": {
   "codemirror_mode": {
    "name": "ipython",
    "version": 3
   },
   "file_extension": ".py",
   "mimetype": "text/x-python",
   "name": "python",
   "nbconvert_exporter": "python",
   "pygments_lexer": "ipython3",
   "version": "3.7.4"
  }
 },
 "nbformat": 4,
 "nbformat_minor": 2
}
